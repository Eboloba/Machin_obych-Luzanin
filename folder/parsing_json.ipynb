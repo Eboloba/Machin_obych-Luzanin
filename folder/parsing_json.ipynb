{
 "cells": [
  {
   "cell_type": "markdown",
   "id": "edf9ba3f",
   "metadata": {},
   "source": [
    "# Парсинг данных с JSON файла"
   ]
  },
  {
   "cell_type": "code",
   "execution_count": 41,
   "id": "a0a59f6c",
   "metadata": {},
   "outputs": [],
   "source": [
    "import json\n",
    "import glob\n",
    "import pandas as pd\n",
    "from datetime import datetime\n",
    "from IPython.display import display"
   ]
  },
  {
   "cell_type": "markdown",
   "id": "c459c8b5",
   "metadata": {},
   "source": [
    "## Парсинг"
   ]
  },
  {
   "cell_type": "code",
   "execution_count": 44,
   "id": "9f02ec30",
   "metadata": {},
   "outputs": [],
   "source": [
    "all_jsons = glob.glob(r\"Data\\*.json\")\n",
    "all_data = []\n",
    "\n",
    "for file_path in all_jsons:\n",
    "    try:\n",
    "        with open(file_path, 'r', encoding='utf-8') as f:\n",
    "            data = json.load(f)\n",
    "            data['file_source'] = file_path \n",
    "            all_data.append(data)\n",
    "    except Exception as e:\n",
    "        print(f\"Ошибка при загрузке файла {file_path}: {str(e)}\")    "
   ]
  },
  {
   "cell_type": "markdown",
   "id": "0bf7d4e4-6b5d-4f48-a556-e5413e8322f0",
   "metadata": {},
   "source": [
    "## Посмотрим количество файлов"
   ]
  },
  {
   "cell_type": "code",
   "execution_count": 47,
   "id": "09fd0ab7-bb52-4e99-aab5-5c56d8ea3745",
   "metadata": {},
   "outputs": [
    {
     "data": {
      "text/plain": [
       "14"
      ]
     },
     "execution_count": 47,
     "metadata": {},
     "output_type": "execute_result"
    }
   ],
   "source": [
    "len(all_data)"
   ]
  },
  {
   "cell_type": "markdown",
   "id": "47226025",
   "metadata": {},
   "source": [
    "## Извлечение данных из файлов"
   ]
  },
  {
   "cell_type": "code",
   "execution_count": 76,
   "id": "1325e947",
   "metadata": {
    "scrolled": true
   },
   "outputs": [],
   "source": [
    "# Функция для преобразования даты в стандартный формат\n",
    "def parse_custom_date(day, month, time):\n",
    "    month_map = {\n",
    "        'января': '01', 'февраля': '02', 'марта': '03', 'апреля': '04',\n",
    "        'мая': '05', 'июня': '06', 'июля': '07', 'августа': '08',\n",
    "        'сентября': '09', 'октября': '10', 'ноября': '11', 'декабря': '12'\n",
    "    }\n",
    "    try:\n",
    "        return datetime.strptime(f\"{day} {month_map[month]} {datetime.now().year if int(month_map[month]) <= datetime.now().month else datetime.now().year - 1} {time}\", \n",
    "                               \"%d %m %Y %H:%M\")\n",
    "    except:\n",
    "        return None\n",
    "\n",
    "\n",
    "# Обработка данных\n",
    "def process_data(data_list):\n",
    "    articles = []\n",
    "    \n",
    "    for data in data_list:\n",
    "        # Обработка статей/публикаций\n",
    "        refs = data.get('refs', [])\n",
    "        if refs is None:  # Добавляем проверку на None\n",
    "            refs = []\n",
    "            \n",
    "        for ref in refs:\n",
    "            if isinstance(ref, list) and len(ref) >= 3:  # Проверяем тип и длину\n",
    "                text = ref[0] if len(ref) > 0 else \"\"\n",
    "                date_info = ref[1] if (len(ref) > 1 and isinstance(ref[1], dict)) else {'day': '1', 'month': 'января', 'time': '00:00'}\n",
    "                stats = ref[2] if (len(ref) > 2 and isinstance(ref[2], dict)) else {'rate': 0, 'views': 0}\n",
    "                \n",
    "                # Извлечение ключевых слов из текста\n",
    "                keywords = []\n",
    "                text_lower = text.lower()\n",
    "                for word in ['киберспорт', 'хакатон', 'премия', 'искусственный интеллект', 'разработка', 'технологии']:\n",
    "                    if word in text_lower:\n",
    "                        keywords.append(word)\n",
    "                \n",
    "                # Определение типа контента\n",
    "                content_type = 'новость'\n",
    "                if 'хакатон' in text_lower:\n",
    "                    content_type = 'хакатон'\n",
    "                elif 'премия' in text_lower:\n",
    "                    content_type = 'награждение'\n",
    "                elif 'исследование' in text_lower:\n",
    "                    content_type = 'исследование'\n",
    "                \n",
    "                try:\n",
    "                    date = parse_custom_date(date_info.get('day', '1'), \n",
    "                                           date_info.get('month', 'января'), \n",
    "                                           date_info.get('time', '00:00'))\n",
    "                except:\n",
    "                    date = None\n",
    "                \n",
    "                articles.append({\n",
    "                    'text': text[:200] + '...' if len(text) > 200 else text,\n",
    "                    'full_text': text,\n",
    "                    'date': date,\n",
    "                    'rating': stats.get('rate', 0),\n",
    "                    'views': stats.get('views', 0),\n",
    "                    'keywords': ', '.join(keywords) if keywords else 'нет',\n",
    "                    'content_type': content_type,\n",
    "                    'source_file': data.get('file_source', 'Неизвестно')\n",
    "                })\n",
    "    \n",
    "    return  pd.DataFrame(articles)"
   ]
  },
  {
   "cell_type": "markdown",
   "id": "d51add9c",
   "metadata": {},
   "source": [
    "## Создание датасета\n"
   ]
  },
  {
   "cell_type": "code",
   "execution_count": 79,
   "id": "f62048dd",
   "metadata": {
    "scrolled": true
   },
   "outputs": [],
   "source": [
    "articles_df = process_data(all_data)"
   ]
  },
  {
   "cell_type": "markdown",
   "id": "6f05c715",
   "metadata": {},
   "source": [
    "## Вывод результатов\n"
   ]
  },
  {
   "cell_type": "code",
   "execution_count": 96,
   "id": "c89b38b1",
   "metadata": {},
   "outputs": [
    {
     "name": "stdout",
     "output_type": "stream",
     "text": [
      "╔════════════════════════════╗\n",
      "║    Статистика по статьям   ║\n",
      "╠════════════════════════════╣\n",
      "║ • Средний рейтинг: 23.9    ║\n",
      "║ • Средние просмотры: 21016 ║\n",
      "║ • Медианные просмотры: 7000║\n",
      "╚════════════════════════════╝\n"
     ]
    }
   ],
   "source": [
    "# Анализ данных\n",
    "print(\"╔════════════════════════════╗\")\n",
    "print(\"║    Статистика по статьям   ║\")\n",
    "print(\"╠════════════════════════════╣\")\n",
    "print(f\"║ • Средний рейтинг: {articles_df['rating'].mean():.1f}{' ' * 4}║\")\n",
    "print(f\"║ • Средние просмотры: {articles_df['views'].mean():.0f}{' ' * 1}║\")\n",
    "print(f\"║ • Медианные просмотры: {articles_df['views'].median():.0f}║\")\n",
    "print(\"╚════════════════════════════╝\")"
   ]
  },
  {
   "cell_type": "markdown",
   "id": "8d71d453-ce3c-4183-8a13-2b509098fd3a",
   "metadata": {},
   "source": [
    "## Сделаем  файл из полученных данных"
   ]
  },
  {
   "cell_type": "code",
   "execution_count": 79,
   "id": "124abe49",
   "metadata": {},
   "outputs": [],
   "source": [
    "articles_df.to_csv('jsons_info.csv')"
   ]
  }
 ],
 "metadata": {
  "kernelspec": {
   "display_name": "Python 3 (ipykernel)",
   "language": "python",
   "name": "python3"
  },
  "language_info": {
   "codemirror_mode": {
    "name": "ipython",
    "version": 3
   },
   "file_extension": ".py",
   "mimetype": "text/x-python",
   "name": "python",
   "nbconvert_exporter": "python",
   "pygments_lexer": "ipython3",
   "version": "3.12.4"
  }
 },
 "nbformat": 4,
 "nbformat_minor": 5
}
