{
 "cells": [
  {
   "cell_type": "markdown",
   "id": "edf9ba3f",
   "metadata": {},
   "source": [
    "# Парсинг данных с сайта"
   ]
  },
  {
   "cell_type": "code",
   "execution_count": 5,
   "id": "a0a59f6c",
   "metadata": {},
   "outputs": [],
   "source": [
    "import requests\n",
    "from bs4 import BeautifulSoup\n",
    "import pandas as pd"
   ]
  },
  {
   "cell_type": "markdown",
   "id": "c459c8b5",
   "metadata": {},
   "source": [
    "## Парсинг"
   ]
  },
  {
   "cell_type": "code",
   "execution_count": 8,
   "id": "9f02ec30",
   "metadata": {},
   "outputs": [],
   "source": [
    "url = \"https://ru.wikipedia.org/wiki/250_лучших_фильмов_по_версии_IMDb\"\n",
    "resp = requests.get(url)\n",
    "soup = BeautifulSoup(resp.text, \"html.parser\")\n",
    "movies_inf = soup.find_all(\"tr\")[1:]"
   ]
  },
  {
   "cell_type": "markdown",
   "id": "47226025",
   "metadata": {},
   "source": [
    "## Извлечение данных из таблицы"
   ]
  },
  {
   "cell_type": "code",
   "execution_count": 11,
   "id": "1325e947",
   "metadata": {
    "scrolled": true
   },
   "outputs": [
    {
     "name": "stdout",
     "output_type": "stream",
     "text": [
      "Parsing end.\n"
     ]
    }
   ],
   "source": [
    "movies_data = []\n",
    "for row in movies_inf:\n",
    "    if len(cells := row.find_all(\"td\")) < 5:\n",
    "        continue\n",
    "        \n",
    "    url = f\"https://ru.wikipedia.org/wiki/{cells[1].text.strip().replace(' ', '_')}\"\n",
    "    resp = requests.get(url)\n",
    "    desc = (BeautifulSoup(resp.text, \"html.parser\").find(\"p\").text.strip() \n",
    "            if resp.status_code == 200 else \"Описание недоступно\")\n",
    "    \n",
    "    movies_data.append({\n",
    "        'Место': cells[0].text.strip(),\n",
    "        'Название': cells[1].text.strip(),\n",
    "        'Год': cells[2].text.strip(),\n",
    "        'Режиссёр': cells[3].text.strip(),\n",
    "        'Рейтинг': cells[4].text.strip(),\n",
    "        'Описание': desc\n",
    "    })\n",
    "print(\"Parsing end.\")"
   ]
  },
  {
   "cell_type": "markdown",
   "id": "d51add9c",
   "metadata": {},
   "source": [
    "## Создание датасета\n"
   ]
  },
  {
   "cell_type": "code",
   "execution_count": 14,
   "id": "f62048dd",
   "metadata": {
    "scrolled": true
   },
   "outputs": [
    {
     "data": {
      "text/html": [
       "<div>\n",
       "<style scoped>\n",
       "    .dataframe tbody tr th:only-of-type {\n",
       "        vertical-align: middle;\n",
       "    }\n",
       "\n",
       "    .dataframe tbody tr th {\n",
       "        vertical-align: top;\n",
       "    }\n",
       "\n",
       "    .dataframe thead th {\n",
       "        text-align: right;\n",
       "    }\n",
       "</style>\n",
       "<table border=\"1\" class=\"dataframe\">\n",
       "  <thead>\n",
       "    <tr style=\"text-align: right;\">\n",
       "      <th></th>\n",
       "      <th>Название</th>\n",
       "      <th>Год</th>\n",
       "      <th>Режиссёр</th>\n",
       "      <th>Рейтинг</th>\n",
       "      <th>Описание</th>\n",
       "    </tr>\n",
       "    <tr>\n",
       "      <th>Место</th>\n",
       "      <th></th>\n",
       "      <th></th>\n",
       "      <th></th>\n",
       "      <th></th>\n",
       "      <th></th>\n",
       "    </tr>\n",
       "  </thead>\n",
       "  <tbody>\n",
       "    <tr>\n",
       "      <th>1</th>\n",
       "      <td>Побег из Шоушенка</td>\n",
       "      <td>1994</td>\n",
       "      <td>Фрэнк Дарабонт</td>\n",
       "      <td>эпический фильм, историческая драма, тюремная ...</td>\n",
       "      <td>«Побе́г из Шоуше́нка» (англ. The Shawshank Red...</td>\n",
       "    </tr>\n",
       "    <tr>\n",
       "      <th>2</th>\n",
       "      <td>Крёстный отец</td>\n",
       "      <td>1972</td>\n",
       "      <td>Фрэнсис Форд Коппола</td>\n",
       "      <td>эпический фильм, гангстерский фильм, фильм-тра...</td>\n",
       "      <td>Крёстный оте́ц может означать:</td>\n",
       "    </tr>\n",
       "    <tr>\n",
       "      <th>3</th>\n",
       "      <td>Тёмный рыцарь</td>\n",
       "      <td>2008</td>\n",
       "      <td>Кристофер Нолан</td>\n",
       "      <td>эпический боевик, эпический фильм, супергеройс...</td>\n",
       "      <td>«Тёмный ры́царь» (англ. The Dark Knight) — аме...</td>\n",
       "    </tr>\n",
       "    <tr>\n",
       "      <th>4</th>\n",
       "      <td>Крёстный отец 2</td>\n",
       "      <td>1974</td>\n",
       "      <td>Фрэнсис Форд Коппола</td>\n",
       "      <td>эпический фильм, гангстерский фильм, фильм-тра...</td>\n",
       "      <td>«Крёстный оте́ц 2» (англ. The Godfather Part I...</td>\n",
       "    </tr>\n",
       "    <tr>\n",
       "      <th>5</th>\n",
       "      <td>12 разгневанных мужчин</td>\n",
       "      <td>1957</td>\n",
       "      <td>Сидни Люмет</td>\n",
       "      <td>юридическая драма, психологическая драма, дете...</td>\n",
       "      <td>«12 разгневанных мужчин» (англ. Twelve Angry M...</td>\n",
       "    </tr>\n",
       "    <tr>\n",
       "      <th>6</th>\n",
       "      <td>Властелин колец: Возвращение короля</td>\n",
       "      <td>2003</td>\n",
       "      <td>Питер Джексон</td>\n",
       "      <td>приключенческая киноэпопея, эпический фильм, ф...</td>\n",
       "      <td>«Властели́н коле́ц: Возвраще́ние короля́» (анг...</td>\n",
       "    </tr>\n",
       "    <tr>\n",
       "      <th>7</th>\n",
       "      <td>Список Шиндлера</td>\n",
       "      <td>1993</td>\n",
       "      <td>Стивен Спилберг</td>\n",
       "      <td>докудрама, эпический фильм, историческая киноэ...</td>\n",
       "      <td>«Спи́сок Ши́ндлера» (англ. Schindler's List) —...</td>\n",
       "    </tr>\n",
       "    <tr>\n",
       "      <th>8</th>\n",
       "      <td>Криминальное чтиво</td>\n",
       "      <td>1994</td>\n",
       "      <td>Квентин Тарантино</td>\n",
       "      <td>чёрная комедия, фильм о наркопреступлении, ган...</td>\n",
       "      <td>«Кримина́льное чти́во» (англ. Pulp Fiction — «...</td>\n",
       "    </tr>\n",
       "    <tr>\n",
       "      <th>9</th>\n",
       "      <td>Властелин колец: Братство Кольца</td>\n",
       "      <td>2001</td>\n",
       "      <td>Питер Джексон</td>\n",
       "      <td>приключенческая киноэпопея, эпический фильм, ф...</td>\n",
       "      <td>«Властели́н коле́ц: Бра́тство Кольца́» (англ. ...</td>\n",
       "    </tr>\n",
       "    <tr>\n",
       "      <th>10</th>\n",
       "      <td>Хороший, плохой, злой</td>\n",
       "      <td>1966</td>\n",
       "      <td>Серджо Леоне</td>\n",
       "      <td>приключенческая киноэпопея, фильм о приключени...</td>\n",
       "      <td>«Хоро́ший, плохо́й, злой» (итал. Il buono, il ...</td>\n",
       "    </tr>\n",
       "  </tbody>\n",
       "</table>\n",
       "</div>"
      ],
      "text/plain": [
       "                                  Название   Год              Режиссёр  \\\n",
       "Место                                                                    \n",
       "1                        Побег из Шоушенка  1994        Фрэнк Дарабонт   \n",
       "2                            Крёстный отец  1972  Фрэнсис Форд Коппола   \n",
       "3                            Тёмный рыцарь  2008       Кристофер Нолан   \n",
       "4                          Крёстный отец 2  1974  Фрэнсис Форд Коппола   \n",
       "5                   12 разгневанных мужчин  1957           Сидни Люмет   \n",
       "6      Властелин колец: Возвращение короля  2003         Питер Джексон   \n",
       "7                          Список Шиндлера  1993       Стивен Спилберг   \n",
       "8                       Криминальное чтиво  1994     Квентин Тарантино   \n",
       "9         Властелин колец: Братство Кольца  2001         Питер Джексон   \n",
       "10                   Хороший, плохой, злой  1966          Серджо Леоне   \n",
       "\n",
       "                                                 Рейтинг  \\\n",
       "Место                                                      \n",
       "1      эпический фильм, историческая драма, тюремная ...   \n",
       "2      эпический фильм, гангстерский фильм, фильм-тра...   \n",
       "3      эпический боевик, эпический фильм, супергеройс...   \n",
       "4      эпический фильм, гангстерский фильм, фильм-тра...   \n",
       "5      юридическая драма, психологическая драма, дете...   \n",
       "6      приключенческая киноэпопея, эпический фильм, ф...   \n",
       "7      докудрама, эпический фильм, историческая киноэ...   \n",
       "8      чёрная комедия, фильм о наркопреступлении, ган...   \n",
       "9      приключенческая киноэпопея, эпический фильм, ф...   \n",
       "10     приключенческая киноэпопея, фильм о приключени...   \n",
       "\n",
       "                                                Описание  \n",
       "Место                                                     \n",
       "1      «Побе́г из Шоуше́нка» (англ. The Shawshank Red...  \n",
       "2                         Крёстный оте́ц может означать:  \n",
       "3      «Тёмный ры́царь» (англ. The Dark Knight) — аме...  \n",
       "4      «Крёстный оте́ц 2» (англ. The Godfather Part I...  \n",
       "5      «12 разгневанных мужчин» (англ. Twelve Angry M...  \n",
       "6      «Властели́н коле́ц: Возвраще́ние короля́» (анг...  \n",
       "7      «Спи́сок Ши́ндлера» (англ. Schindler's List) —...  \n",
       "8      «Кримина́льное чти́во» (англ. Pulp Fiction — «...  \n",
       "9      «Властели́н коле́ц: Бра́тство Кольца́» (англ. ...  \n",
       "10     «Хоро́ший, плохо́й, злой» (итал. Il buono, il ...  "
      ]
     },
     "execution_count": 14,
     "metadata": {},
     "output_type": "execute_result"
    }
   ],
   "source": [
    "df = pd.DataFrame(movies_data)\n",
    "\n",
    "df.set_index('Место', inplace=True)\n",
    "df.head(10)"
   ]
  },
  {
   "cell_type": "markdown",
   "id": "6f05c715",
   "metadata": {},
   "source": [
    "## Вывод результатов\n"
   ]
  },
  {
   "cell_type": "code",
   "execution_count": 17,
   "id": "c89b38b1",
   "metadata": {},
   "outputs": [
    {
     "name": "stdout",
     "output_type": "stream",
     "text": [
      "<class 'pandas.core.frame.DataFrame'>\n",
      "Index: 250 entries, 1 to 250\n",
      "Data columns (total 5 columns):\n",
      " #   Column    Non-Null Count  Dtype \n",
      "---  ------    --------------  ----- \n",
      " 0   Название  250 non-null    object\n",
      " 1   Год       250 non-null    object\n",
      " 2   Режиссёр  250 non-null    object\n",
      " 3   Рейтинг   250 non-null    object\n",
      " 4   Описание  250 non-null    object\n",
      "dtypes: object(5)\n",
      "memory usage: 11.7+ KB\n"
     ]
    }
   ],
   "source": [
    "df.info(250)"
   ]
  },
  {
   "cell_type": "code",
   "execution_count": 21,
   "id": "124abe49",
   "metadata": {},
   "outputs": [],
   "source": [
    "df.to_csv('imdb_rating.csv')"
   ]
  }
 ],
 "metadata": {
  "kernelspec": {
   "display_name": "Python 3 (ipykernel)",
   "language": "python",
   "name": "python3"
  },
  "language_info": {
   "codemirror_mode": {
    "name": "ipython",
    "version": 3
   },
   "file_extension": ".py",
   "mimetype": "text/x-python",
   "name": "python",
   "nbconvert_exporter": "python",
   "pygments_lexer": "ipython3",
   "version": "3.12.4"
  }
 },
 "nbformat": 4,
 "nbformat_minor": 5
}
