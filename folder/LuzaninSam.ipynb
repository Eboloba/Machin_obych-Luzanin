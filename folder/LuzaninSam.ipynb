{
 "cells": [
  {
   "cell_type": "markdown",
   "id": "89f652ed-d77f-4511-8483-8f21dc4d3d40",
   "metadata": {},
   "source": [
    "### Описание датасета"
   ]
  },
  {
   "cell_type": "markdown",
   "id": "bbb7bf6b-29e6-4731-baee-340adb91a663",
   "metadata": {},
   "source": [
    "Датасет предоставляет обширную информацию о финансовом поведении клиентов, включая их доходы,\n",
    "кредитную историю, типы кредитов, поведение при оплате и кредитный рейтинг."
   ]
  },
  {
   "cell_type": "markdown",
   "id": "ca616a8a-d71d-44a2-bc74-6a912f45cc4f",
   "metadata": {},
   "source": [
    "### Подключение модулей"
   ]
  },
  {
   "cell_type": "code",
   "execution_count": 250,
   "id": "e0f3ce39-0555-4574-a183-af1853cc1452",
   "metadata": {},
   "outputs": [],
   "source": [
    "import numpy as np\n",
    "import pandas as pd\n",
    "import matplotlib.pyplot as plt\n",
    "import seaborn as sns\n",
    "\n",
    "import warnings\n",
    "warnings.filterwarnings('ignore')\n",
    "\n",
    "%matplotlib inline"
   ]
  },
  {
   "cell_type": "markdown",
   "id": "77def7df-4d95-48dc-a1c7-7c718ba51111",
   "metadata": {},
   "source": [
    "### Загрузка данных"
   ]
  },
  {
   "cell_type": "code",
   "execution_count": 253,
   "id": "90464c46-57be-42ab-9899-41d0a2cda6b2",
   "metadata": {},
   "outputs": [],
   "source": [
    "df = pd.read_csv('train.csv')"
   ]
  },
  {
   "cell_type": "code",
   "execution_count": 254,
   "id": "23f7cc5c-81ee-4fbf-9d1d-4c994ae700b4",
   "metadata": {},
   "outputs": [
    {
     "data": {
      "text/html": [
       "<div>\n",
       "<style scoped>\n",
       "    .dataframe tbody tr th:only-of-type {\n",
       "        vertical-align: middle;\n",
       "    }\n",
       "\n",
       "    .dataframe tbody tr th {\n",
       "        vertical-align: top;\n",
       "    }\n",
       "\n",
       "    .dataframe thead th {\n",
       "        text-align: right;\n",
       "    }\n",
       "</style>\n",
       "<table border=\"1\" class=\"dataframe\">\n",
       "  <thead>\n",
       "    <tr style=\"text-align: right;\">\n",
       "      <th></th>\n",
       "      <th>ID</th>\n",
       "      <th>Customer_ID</th>\n",
       "      <th>Month</th>\n",
       "      <th>Name</th>\n",
       "      <th>Age</th>\n",
       "      <th>SSN</th>\n",
       "      <th>Occupation</th>\n",
       "      <th>Annual_Income</th>\n",
       "      <th>Monthly_Inhand_Salary</th>\n",
       "      <th>Num_Bank_Accounts</th>\n",
       "      <th>...</th>\n",
       "      <th>Credit_Mix</th>\n",
       "      <th>Outstanding_Debt</th>\n",
       "      <th>Credit_Utilization_Ratio</th>\n",
       "      <th>Credit_History_Age</th>\n",
       "      <th>Payment_of_Min_Amount</th>\n",
       "      <th>Total_EMI_per_month</th>\n",
       "      <th>Amount_invested_monthly</th>\n",
       "      <th>Payment_Behaviour</th>\n",
       "      <th>Monthly_Balance</th>\n",
       "      <th>Credit_Score</th>\n",
       "    </tr>\n",
       "  </thead>\n",
       "  <tbody>\n",
       "    <tr>\n",
       "      <th>0</th>\n",
       "      <td>0x1602</td>\n",
       "      <td>CUS_0xd40</td>\n",
       "      <td>January</td>\n",
       "      <td>Aaron Maashoh</td>\n",
       "      <td>23</td>\n",
       "      <td>821-00-0265</td>\n",
       "      <td>Scientist</td>\n",
       "      <td>19114.12</td>\n",
       "      <td>1824.843333</td>\n",
       "      <td>3</td>\n",
       "      <td>...</td>\n",
       "      <td>_</td>\n",
       "      <td>809.98</td>\n",
       "      <td>26.822620</td>\n",
       "      <td>22 Years and 1 Months</td>\n",
       "      <td>No</td>\n",
       "      <td>49.574949</td>\n",
       "      <td>80.41529543900253</td>\n",
       "      <td>High_spent_Small_value_payments</td>\n",
       "      <td>312.49408867943663</td>\n",
       "      <td>Good</td>\n",
       "    </tr>\n",
       "    <tr>\n",
       "      <th>1</th>\n",
       "      <td>0x1603</td>\n",
       "      <td>CUS_0xd40</td>\n",
       "      <td>February</td>\n",
       "      <td>Aaron Maashoh</td>\n",
       "      <td>23</td>\n",
       "      <td>821-00-0265</td>\n",
       "      <td>Scientist</td>\n",
       "      <td>19114.12</td>\n",
       "      <td>NaN</td>\n",
       "      <td>3</td>\n",
       "      <td>...</td>\n",
       "      <td>Good</td>\n",
       "      <td>809.98</td>\n",
       "      <td>31.944960</td>\n",
       "      <td>NaN</td>\n",
       "      <td>No</td>\n",
       "      <td>49.574949</td>\n",
       "      <td>118.28022162236736</td>\n",
       "      <td>Low_spent_Large_value_payments</td>\n",
       "      <td>284.62916249607184</td>\n",
       "      <td>Good</td>\n",
       "    </tr>\n",
       "    <tr>\n",
       "      <th>2</th>\n",
       "      <td>0x1604</td>\n",
       "      <td>CUS_0xd40</td>\n",
       "      <td>March</td>\n",
       "      <td>Aaron Maashoh</td>\n",
       "      <td>-500</td>\n",
       "      <td>821-00-0265</td>\n",
       "      <td>Scientist</td>\n",
       "      <td>19114.12</td>\n",
       "      <td>NaN</td>\n",
       "      <td>3</td>\n",
       "      <td>...</td>\n",
       "      <td>Good</td>\n",
       "      <td>809.98</td>\n",
       "      <td>28.609352</td>\n",
       "      <td>22 Years and 3 Months</td>\n",
       "      <td>No</td>\n",
       "      <td>49.574949</td>\n",
       "      <td>81.699521264648</td>\n",
       "      <td>Low_spent_Medium_value_payments</td>\n",
       "      <td>331.2098628537912</td>\n",
       "      <td>Good</td>\n",
       "    </tr>\n",
       "    <tr>\n",
       "      <th>3</th>\n",
       "      <td>0x1605</td>\n",
       "      <td>CUS_0xd40</td>\n",
       "      <td>April</td>\n",
       "      <td>Aaron Maashoh</td>\n",
       "      <td>23</td>\n",
       "      <td>821-00-0265</td>\n",
       "      <td>Scientist</td>\n",
       "      <td>19114.12</td>\n",
       "      <td>NaN</td>\n",
       "      <td>3</td>\n",
       "      <td>...</td>\n",
       "      <td>Good</td>\n",
       "      <td>809.98</td>\n",
       "      <td>31.377862</td>\n",
       "      <td>22 Years and 4 Months</td>\n",
       "      <td>No</td>\n",
       "      <td>49.574949</td>\n",
       "      <td>199.4580743910713</td>\n",
       "      <td>Low_spent_Small_value_payments</td>\n",
       "      <td>223.45130972736786</td>\n",
       "      <td>Good</td>\n",
       "    </tr>\n",
       "    <tr>\n",
       "      <th>4</th>\n",
       "      <td>0x1606</td>\n",
       "      <td>CUS_0xd40</td>\n",
       "      <td>May</td>\n",
       "      <td>Aaron Maashoh</td>\n",
       "      <td>23</td>\n",
       "      <td>821-00-0265</td>\n",
       "      <td>Scientist</td>\n",
       "      <td>19114.12</td>\n",
       "      <td>1824.843333</td>\n",
       "      <td>3</td>\n",
       "      <td>...</td>\n",
       "      <td>Good</td>\n",
       "      <td>809.98</td>\n",
       "      <td>24.797347</td>\n",
       "      <td>22 Years and 5 Months</td>\n",
       "      <td>No</td>\n",
       "      <td>49.574949</td>\n",
       "      <td>41.420153086217326</td>\n",
       "      <td>High_spent_Medium_value_payments</td>\n",
       "      <td>341.48923103222177</td>\n",
       "      <td>Good</td>\n",
       "    </tr>\n",
       "  </tbody>\n",
       "</table>\n",
       "<p>5 rows × 28 columns</p>\n",
       "</div>"
      ],
      "text/plain": [
       "       ID Customer_ID     Month           Name   Age          SSN Occupation  \\\n",
       "0  0x1602   CUS_0xd40   January  Aaron Maashoh    23  821-00-0265  Scientist   \n",
       "1  0x1603   CUS_0xd40  February  Aaron Maashoh    23  821-00-0265  Scientist   \n",
       "2  0x1604   CUS_0xd40     March  Aaron Maashoh  -500  821-00-0265  Scientist   \n",
       "3  0x1605   CUS_0xd40     April  Aaron Maashoh    23  821-00-0265  Scientist   \n",
       "4  0x1606   CUS_0xd40       May  Aaron Maashoh    23  821-00-0265  Scientist   \n",
       "\n",
       "  Annual_Income  Monthly_Inhand_Salary  Num_Bank_Accounts  ...  Credit_Mix  \\\n",
       "0      19114.12            1824.843333                  3  ...           _   \n",
       "1      19114.12                    NaN                  3  ...        Good   \n",
       "2      19114.12                    NaN                  3  ...        Good   \n",
       "3      19114.12                    NaN                  3  ...        Good   \n",
       "4      19114.12            1824.843333                  3  ...        Good   \n",
       "\n",
       "   Outstanding_Debt Credit_Utilization_Ratio     Credit_History_Age  \\\n",
       "0            809.98                26.822620  22 Years and 1 Months   \n",
       "1            809.98                31.944960                    NaN   \n",
       "2            809.98                28.609352  22 Years and 3 Months   \n",
       "3            809.98                31.377862  22 Years and 4 Months   \n",
       "4            809.98                24.797347  22 Years and 5 Months   \n",
       "\n",
       "   Payment_of_Min_Amount Total_EMI_per_month Amount_invested_monthly  \\\n",
       "0                     No           49.574949       80.41529543900253   \n",
       "1                     No           49.574949      118.28022162236736   \n",
       "2                     No           49.574949         81.699521264648   \n",
       "3                     No           49.574949       199.4580743910713   \n",
       "4                     No           49.574949      41.420153086217326   \n",
       "\n",
       "                  Payment_Behaviour     Monthly_Balance Credit_Score  \n",
       "0   High_spent_Small_value_payments  312.49408867943663         Good  \n",
       "1    Low_spent_Large_value_payments  284.62916249607184         Good  \n",
       "2   Low_spent_Medium_value_payments   331.2098628537912         Good  \n",
       "3    Low_spent_Small_value_payments  223.45130972736786         Good  \n",
       "4  High_spent_Medium_value_payments  341.48923103222177         Good  \n",
       "\n",
       "[5 rows x 28 columns]"
      ]
     },
     "execution_count": 254,
     "metadata": {},
     "output_type": "execute_result"
    }
   ],
   "source": [
    "df.head()"
   ]
  },
  {
   "cell_type": "markdown",
   "id": "cbd6aabf-9083-4b88-ba2f-948e6365732a",
   "metadata": {},
   "source": [
    "### Опиисание данных"
   ]
  },
  {
   "cell_type": "markdown",
   "id": "ae4e24c5-cc6e-480c-9866-943a642edba9",
   "metadata": {},
   "source": [
    "- ID Уникальный идентификатор для каждой записи.\n",
    "- Customer_ID Уникальный идентификатор для каждого клиента.\n",
    "- Month Месяц совершения транзакции или записи.\n",
    "- Name Имя клиента.\n",
    "- Age Возраст клиента.\n",
    "- SSN Номер социального страхования клиента.\n",
    "- Occupation Профессия клиента.\n",
    "- Annual_Income Годовой доход клиента.\n",
    "- Monthly_Inhand_Salary Ежемесячная зарплата клиента на дому.\n",
    "- Num_Bank_Accounts Общее количество банковских счетов, принадлежащих клиенту.\n",
    "- Num_Credit_Card Общее количество кредитных карт, имеющихся у клиента.\n",
    "- Interest_Rate Процентная ставка, применяемая к займам или кредитам.\n",
    "- Num_of_Loan Количество займов, взятых клиентом.\n",
    "- Type_of_Loan Категории займов, полученных клиентом.\n",
    "- Delay_from_due_date Задержка платежа по отношению к сроку оплаты.\n",
    "- Num_of_Delayed_Payment  Общее количество случаев просрочки платежей, произведенных клиентом.\n",
    "- Changed_Credit_Limit Внесены изменения в кредитный лимит клиента.\n",
    "- Num_Credit_Inquiries Количество запросов, направленных в отношении кредита клиента.\n",
    "- Credit_Mix Разнообразие типов кредитов, которые использует клиент (например, займы, кредитные карты).\n",
    "- Outstanding_Debt Общая сумма задолженности клиента на текущий момент.\n",
    "- Credit_Utilization_Ratio Доля использованного кредита по сравнению с общим кредитным лимитом.\n",
    "- Credit_History_Age Продолжительность кредитной истории клиента.\n",
    "- Payment_of_Min_Amount Указывает, выплачивает ли клиент минимальную требуемую сумму каждый месяц.\n",
    "- Total_EMI_per_month Общая сумма ежемесячных платежей, выплачиваемых клиентом.\n",
    "- Amount_invested_monthly Сумма ежемесячных инвестиций, осуществляемых клиентом.\n",
    "- Payment_Behaviour Платежные привычки и склонности клиента.\n",
    "- Monthly_Balance Остаток средств на счете клиента на конец каждого месяца.\n",
    "- Credit_Score Кредитный рейтинг клиента (целевая переменная: \"Хороший\", \"Плохой\", \"Стандартный\")."
   ]
  },
  {
   "cell_type": "code",
   "execution_count": 259,
   "id": "d7e207b1-bb09-4df0-9e32-8f6230e7c9fe",
   "metadata": {},
   "outputs": [
    {
     "data": {
      "text/plain": [
       "(100000, 28)"
      ]
     },
     "execution_count": 259,
     "metadata": {},
     "output_type": "execute_result"
    }
   ],
   "source": [
    "\n",
    "# Количество данных \n",
    "df.shape"
   ]
  },
  {
   "cell_type": "markdown",
   "id": "bd6082c1-e203-457e-b548-ad4422c156e3",
   "metadata": {},
   "source": [
    "### Предобработка данных"
   ]
  },
  {
   "cell_type": "code",
   "execution_count": 262,
   "id": "4bf2192f-fa2d-4c29-87b1-d3618e5be10f",
   "metadata": {},
   "outputs": [
    {
     "name": "stdout",
     "output_type": "stream",
     "text": [
      "<class 'pandas.core.frame.DataFrame'>\n",
      "RangeIndex: 100000 entries, 0 to 99999\n",
      "Data columns (total 28 columns):\n",
      " #   Column                    Non-Null Count   Dtype  \n",
      "---  ------                    --------------   -----  \n",
      " 0   ID                        100000 non-null  object \n",
      " 1   Customer_ID               100000 non-null  object \n",
      " 2   Month                     100000 non-null  object \n",
      " 3   Name                      90015 non-null   object \n",
      " 4   Age                       100000 non-null  object \n",
      " 5   SSN                       100000 non-null  object \n",
      " 6   Occupation                100000 non-null  object \n",
      " 7   Annual_Income             100000 non-null  object \n",
      " 8   Monthly_Inhand_Salary     84998 non-null   float64\n",
      " 9   Num_Bank_Accounts         100000 non-null  int64  \n",
      " 10  Num_Credit_Card           100000 non-null  int64  \n",
      " 11  Interest_Rate             100000 non-null  int64  \n",
      " 12  Num_of_Loan               100000 non-null  object \n",
      " 13  Type_of_Loan              88592 non-null   object \n",
      " 14  Delay_from_due_date       100000 non-null  int64  \n",
      " 15  Num_of_Delayed_Payment    92998 non-null   object \n",
      " 16  Changed_Credit_Limit      100000 non-null  object \n",
      " 17  Num_Credit_Inquiries      98035 non-null   float64\n",
      " 18  Credit_Mix                100000 non-null  object \n",
      " 19  Outstanding_Debt          100000 non-null  object \n",
      " 20  Credit_Utilization_Ratio  100000 non-null  float64\n",
      " 21  Credit_History_Age        90970 non-null   object \n",
      " 22  Payment_of_Min_Amount     100000 non-null  object \n",
      " 23  Total_EMI_per_month       100000 non-null  float64\n",
      " 24  Amount_invested_monthly   95521 non-null   object \n",
      " 25  Payment_Behaviour         100000 non-null  object \n",
      " 26  Monthly_Balance           98800 non-null   object \n",
      " 27  Credit_Score              100000 non-null  object \n",
      "dtypes: float64(4), int64(4), object(20)\n",
      "memory usage: 21.4+ MB\n"
     ]
    }
   ],
   "source": [
    "# информация о наборе данных\n",
    "df.info()"
   ]
  },
  {
   "cell_type": "code",
   "execution_count": 264,
   "id": "a6b0fd27-7c63-4414-ab17-aad5c1abdd23",
   "metadata": {},
   "outputs": [
    {
     "data": {
      "text/html": [
       "<div>\n",
       "<style scoped>\n",
       "    .dataframe tbody tr th:only-of-type {\n",
       "        vertical-align: middle;\n",
       "    }\n",
       "\n",
       "    .dataframe tbody tr th {\n",
       "        vertical-align: top;\n",
       "    }\n",
       "\n",
       "    .dataframe thead th {\n",
       "        text-align: right;\n",
       "    }\n",
       "</style>\n",
       "<table border=\"1\" class=\"dataframe\">\n",
       "  <thead>\n",
       "    <tr style=\"text-align: right;\">\n",
       "      <th></th>\n",
       "      <th>Monthly_Inhand_Salary</th>\n",
       "      <th>Num_Bank_Accounts</th>\n",
       "      <th>Num_Credit_Card</th>\n",
       "      <th>Interest_Rate</th>\n",
       "      <th>Delay_from_due_date</th>\n",
       "      <th>Num_Credit_Inquiries</th>\n",
       "      <th>Credit_Utilization_Ratio</th>\n",
       "      <th>Total_EMI_per_month</th>\n",
       "    </tr>\n",
       "  </thead>\n",
       "  <tbody>\n",
       "    <tr>\n",
       "      <th>count</th>\n",
       "      <td>84998.000000</td>\n",
       "      <td>100000.000000</td>\n",
       "      <td>100000.00000</td>\n",
       "      <td>100000.000000</td>\n",
       "      <td>100000.000000</td>\n",
       "      <td>98035.000000</td>\n",
       "      <td>100000.000000</td>\n",
       "      <td>100000.000000</td>\n",
       "    </tr>\n",
       "    <tr>\n",
       "      <th>mean</th>\n",
       "      <td>4194.170850</td>\n",
       "      <td>17.091280</td>\n",
       "      <td>22.47443</td>\n",
       "      <td>72.466040</td>\n",
       "      <td>21.068780</td>\n",
       "      <td>27.754251</td>\n",
       "      <td>32.285173</td>\n",
       "      <td>1403.118217</td>\n",
       "    </tr>\n",
       "    <tr>\n",
       "      <th>std</th>\n",
       "      <td>3183.686167</td>\n",
       "      <td>117.404834</td>\n",
       "      <td>129.05741</td>\n",
       "      <td>466.422621</td>\n",
       "      <td>14.860104</td>\n",
       "      <td>193.177339</td>\n",
       "      <td>5.116875</td>\n",
       "      <td>8306.041270</td>\n",
       "    </tr>\n",
       "    <tr>\n",
       "      <th>min</th>\n",
       "      <td>303.645417</td>\n",
       "      <td>-1.000000</td>\n",
       "      <td>0.00000</td>\n",
       "      <td>1.000000</td>\n",
       "      <td>-5.000000</td>\n",
       "      <td>0.000000</td>\n",
       "      <td>20.000000</td>\n",
       "      <td>0.000000</td>\n",
       "    </tr>\n",
       "    <tr>\n",
       "      <th>25%</th>\n",
       "      <td>1625.568229</td>\n",
       "      <td>3.000000</td>\n",
       "      <td>4.00000</td>\n",
       "      <td>8.000000</td>\n",
       "      <td>10.000000</td>\n",
       "      <td>3.000000</td>\n",
       "      <td>28.052567</td>\n",
       "      <td>30.306660</td>\n",
       "    </tr>\n",
       "    <tr>\n",
       "      <th>50%</th>\n",
       "      <td>3093.745000</td>\n",
       "      <td>6.000000</td>\n",
       "      <td>5.00000</td>\n",
       "      <td>13.000000</td>\n",
       "      <td>18.000000</td>\n",
       "      <td>6.000000</td>\n",
       "      <td>32.305784</td>\n",
       "      <td>69.249473</td>\n",
       "    </tr>\n",
       "    <tr>\n",
       "      <th>75%</th>\n",
       "      <td>5957.448333</td>\n",
       "      <td>7.000000</td>\n",
       "      <td>7.00000</td>\n",
       "      <td>20.000000</td>\n",
       "      <td>28.000000</td>\n",
       "      <td>9.000000</td>\n",
       "      <td>36.496663</td>\n",
       "      <td>161.224249</td>\n",
       "    </tr>\n",
       "    <tr>\n",
       "      <th>max</th>\n",
       "      <td>15204.633333</td>\n",
       "      <td>1798.000000</td>\n",
       "      <td>1499.00000</td>\n",
       "      <td>5797.000000</td>\n",
       "      <td>67.000000</td>\n",
       "      <td>2597.000000</td>\n",
       "      <td>50.000000</td>\n",
       "      <td>82331.000000</td>\n",
       "    </tr>\n",
       "  </tbody>\n",
       "</table>\n",
       "</div>"
      ],
      "text/plain": [
       "       Monthly_Inhand_Salary  Num_Bank_Accounts  Num_Credit_Card  \\\n",
       "count           84998.000000      100000.000000     100000.00000   \n",
       "mean             4194.170850          17.091280         22.47443   \n",
       "std              3183.686167         117.404834        129.05741   \n",
       "min               303.645417          -1.000000          0.00000   \n",
       "25%              1625.568229           3.000000          4.00000   \n",
       "50%              3093.745000           6.000000          5.00000   \n",
       "75%              5957.448333           7.000000          7.00000   \n",
       "max             15204.633333        1798.000000       1499.00000   \n",
       "\n",
       "       Interest_Rate  Delay_from_due_date  Num_Credit_Inquiries  \\\n",
       "count  100000.000000        100000.000000          98035.000000   \n",
       "mean       72.466040            21.068780             27.754251   \n",
       "std       466.422621            14.860104            193.177339   \n",
       "min         1.000000            -5.000000              0.000000   \n",
       "25%         8.000000            10.000000              3.000000   \n",
       "50%        13.000000            18.000000              6.000000   \n",
       "75%        20.000000            28.000000              9.000000   \n",
       "max      5797.000000            67.000000           2597.000000   \n",
       "\n",
       "       Credit_Utilization_Ratio  Total_EMI_per_month  \n",
       "count             100000.000000        100000.000000  \n",
       "mean                  32.285173          1403.118217  \n",
       "std                    5.116875          8306.041270  \n",
       "min                   20.000000             0.000000  \n",
       "25%                   28.052567            30.306660  \n",
       "50%                   32.305784            69.249473  \n",
       "75%                   36.496663           161.224249  \n",
       "max                   50.000000         82331.000000  "
      ]
     },
     "execution_count": 264,
     "metadata": {},
     "output_type": "execute_result"
    }
   ],
   "source": [
    "df.describe()"
   ]
  },
  {
   "cell_type": "markdown",
   "id": "756ec948-2327-4a7b-8151-accbe550d62c",
   "metadata": {},
   "source": [
    "Есть аномальные значения и пустые значения"
   ]
  },
  {
   "cell_type": "code",
   "execution_count": 267,
   "id": "ee301992-7538-4395-80db-aa28f09b376e",
   "metadata": {},
   "outputs": [
    {
     "data": {
      "text/plain": [
       "ID                           object\n",
       "Customer_ID                  object\n",
       "Month                        object\n",
       "Name                         object\n",
       "Age                          object\n",
       "SSN                          object\n",
       "Occupation                   object\n",
       "Annual_Income                object\n",
       "Monthly_Inhand_Salary       float64\n",
       "Num_Bank_Accounts             int64\n",
       "Num_Credit_Card               int64\n",
       "Interest_Rate                 int64\n",
       "Num_of_Loan                  object\n",
       "Type_of_Loan                 object\n",
       "Delay_from_due_date           int64\n",
       "Num_of_Delayed_Payment       object\n",
       "Changed_Credit_Limit         object\n",
       "Num_Credit_Inquiries        float64\n",
       "Credit_Mix                   object\n",
       "Outstanding_Debt             object\n",
       "Credit_Utilization_Ratio    float64\n",
       "Credit_History_Age           object\n",
       "Payment_of_Min_Amount        object\n",
       "Total_EMI_per_month         float64\n",
       "Amount_invested_monthly      object\n",
       "Payment_Behaviour            object\n",
       "Monthly_Balance              object\n",
       "Credit_Score                 object\n",
       "dtype: object"
      ]
     },
     "execution_count": 267,
     "metadata": {},
     "output_type": "execute_result"
    }
   ],
   "source": [
    "# выводим типы данных\n",
    "df.dtypes"
   ]
  },
  {
   "cell_type": "markdown",
   "id": "c7e36d71-48f8-47e4-b45a-c453078fed80",
   "metadata": {},
   "source": [
    "Некоторые типы данных не соответствуют"
   ]
  },
  {
   "cell_type": "code",
   "execution_count": 270,
   "id": "4a80fe26-57e1-4f5a-9cc3-c84d1a5443a6",
   "metadata": {},
   "outputs": [
    {
     "name": "stdout",
     "output_type": "stream",
     "text": [
      "Кол-во пропусков в колонке ID = 0\n",
      "Кол-во пропусков в колонке Customer_ID = 0\n",
      "Кол-во пропусков в колонке Month = 0\n",
      "Кол-во пропусков в колонке Name = 9985\n",
      "Кол-во пропусков в колонке Age = 0\n",
      "Кол-во пропусков в колонке SSN = 0\n",
      "Кол-во пропусков в колонке Occupation = 0\n",
      "Кол-во пропусков в колонке Annual_Income = 0\n",
      "Кол-во пропусков в колонке Monthly_Inhand_Salary = 15002\n",
      "Кол-во пропусков в колонке Num_Bank_Accounts = 0\n",
      "Кол-во пропусков в колонке Num_Credit_Card = 0\n",
      "Кол-во пропусков в колонке Interest_Rate = 0\n",
      "Кол-во пропусков в колонке Num_of_Loan = 0\n",
      "Кол-во пропусков в колонке Type_of_Loan = 11408\n",
      "Кол-во пропусков в колонке Delay_from_due_date = 0\n",
      "Кол-во пропусков в колонке Num_of_Delayed_Payment = 7002\n",
      "Кол-во пропусков в колонке Changed_Credit_Limit = 0\n",
      "Кол-во пропусков в колонке Num_Credit_Inquiries = 1965\n",
      "Кол-во пропусков в колонке Credit_Mix = 0\n",
      "Кол-во пропусков в колонке Outstanding_Debt = 0\n",
      "Кол-во пропусков в колонке Credit_Utilization_Ratio = 0\n",
      "Кол-во пропусков в колонке Credit_History_Age = 9030\n",
      "Кол-во пропусков в колонке Payment_of_Min_Amount = 0\n",
      "Кол-во пропусков в колонке Total_EMI_per_month = 0\n",
      "Кол-во пропусков в колонке Amount_invested_monthly = 4479\n",
      "Кол-во пропусков в колонке Payment_Behaviour = 0\n",
      "Кол-во пропусков в колонке Monthly_Balance = 1200\n",
      "Кол-во пропусков в колонке Credit_Score = 0\n"
     ]
    }
   ],
   "source": [
    "for col in df.columns:\n",
    "    print('Кол-во пропусков в колонке %s = %d' % (col, df[col].isna().sum()))"
   ]
  },
  {
   "cell_type": "code",
   "execution_count": 272,
   "id": "5e3c2ab2-4964-4667-b06c-614476c4f3c1",
   "metadata": {},
   "outputs": [
    {
     "data": {
      "text/plain": [
       "0"
      ]
     },
     "execution_count": 272,
     "metadata": {},
     "output_type": "execute_result"
    }
   ],
   "source": [
    "# Проверка на дублирование записей\n",
    "df.duplicated().sum()"
   ]
  },
  {
   "cell_type": "markdown",
   "id": "56a35148-9dbe-4706-b250-909a26f85103",
   "metadata": {},
   "source": [
    "### Отчистка данных"
   ]
  },
  {
   "cell_type": "code",
   "execution_count": 275,
   "id": "3e0d21d8-447b-4e49-867b-f47864e5aa10",
   "metadata": {},
   "outputs": [],
   "source": [
    "# Преобразование столбцов в числовые типы данных\n",
    "numeric_columns = ['Age', 'Monthly_Inhand_Salary', 'Num_Bank_Accounts', \n",
    "                   'Num_Credit_Card', 'Interest_Rate', 'Num_of_Loan', \n",
    "                   'Delay_from_due_date', 'Num_of_Delayed_Payment', \n",
    "                   'Changed_Credit_Limit', 'Num_Credit_Inquiries', 'Outstanding_Debt', \n",
    "                   'Credit_Utilization_Ratio', 'Total_EMI_per_month', 'Amount_invested_monthly', \n",
    "                   'Monthly_Balance']\n",
    "for col in numeric_columns:\n",
    "    df[col] = pd.to_numeric(df[col], errors='coerce')"
   ]
  },
  {
   "cell_type": "code",
   "execution_count": 277,
   "id": "9d557114-5a70-45c6-a75c-81a19a8296c9",
   "metadata": {},
   "outputs": [
    {
     "data": {
      "text/plain": [
       "ID                           object\n",
       "Customer_ID                  object\n",
       "Month                        object\n",
       "Name                         object\n",
       "Age                         float64\n",
       "SSN                          object\n",
       "Occupation                   object\n",
       "Annual_Income                object\n",
       "Monthly_Inhand_Salary       float64\n",
       "Num_Bank_Accounts             int64\n",
       "Num_Credit_Card               int64\n",
       "Interest_Rate                 int64\n",
       "Num_of_Loan                 float64\n",
       "Type_of_Loan                 object\n",
       "Delay_from_due_date           int64\n",
       "Num_of_Delayed_Payment      float64\n",
       "Changed_Credit_Limit        float64\n",
       "Num_Credit_Inquiries        float64\n",
       "Credit_Mix                   object\n",
       "Outstanding_Debt            float64\n",
       "Credit_Utilization_Ratio    float64\n",
       "Credit_History_Age           object\n",
       "Payment_of_Min_Amount        object\n",
       "Total_EMI_per_month         float64\n",
       "Amount_invested_monthly     float64\n",
       "Payment_Behaviour            object\n",
       "Monthly_Balance             float64\n",
       "Credit_Score                 object\n",
       "dtype: object"
      ]
     },
     "execution_count": 277,
     "metadata": {},
     "output_type": "execute_result"
    }
   ],
   "source": [
    "# выводим типы данных\n",
    "df.dtypes"
   ]
  },
  {
   "cell_type": "code",
   "execution_count": 279,
   "id": "6ecfaeaf-88c1-4203-b936-12c37b453145",
   "metadata": {},
   "outputs": [],
   "source": [
    "df = df[df['Age'] >= 0]"
   ]
  },
  {
   "cell_type": "code",
   "execution_count": 281,
   "id": "d0b5aac6-d01e-46e6-ab98-9a43ce9f8647",
   "metadata": {},
   "outputs": [],
   "source": [
    "df = df.loc[df['Age'] >= 18]"
   ]
  },
  {
   "cell_type": "code",
   "execution_count": 283,
   "id": "e1282883-c0bb-494e-bc57-29fea58fe50d",
   "metadata": {},
   "outputs": [],
   "source": [
    "df = df.loc[df['Age'] <= 96]"
   ]
  },
  {
   "cell_type": "code",
   "execution_count": 285,
   "id": "3a5e0aac-89ee-42aa-9672-d3de70d873bb",
   "metadata": {},
   "outputs": [
    {
     "data": {
      "text/plain": [
       "Age\n",
       "38.0    2833\n",
       "28.0    2829\n",
       "31.0    2806\n",
       "26.0    2792\n",
       "32.0    2749\n",
       "25.0    2737\n",
       "36.0    2720\n",
       "35.0    2716\n",
       "34.0    2707\n",
       "27.0    2707\n",
       "39.0    2705\n",
       "44.0    2688\n",
       "19.0    2650\n",
       "22.0    2641\n",
       "41.0    2638\n",
       "37.0    2605\n",
       "43.0    2605\n",
       "20.0    2603\n",
       "30.0    2602\n",
       "21.0    2594\n",
       "29.0    2575\n",
       "24.0    2553\n",
       "23.0    2537\n",
       "45.0    2501\n",
       "40.0    2477\n",
       "42.0    2441\n",
       "33.0    2429\n",
       "18.0    2270\n",
       "46.0    1538\n",
       "48.0    1330\n",
       "49.0    1307\n",
       "55.0    1299\n",
       "53.0    1287\n",
       "52.0    1283\n",
       "54.0    1236\n",
       "51.0    1224\n",
       "50.0    1205\n",
       "47.0    1165\n",
       "56.0     348\n",
       "95.0       3\n",
       "Name: count, dtype: int64"
      ]
     },
     "execution_count": 285,
     "metadata": {},
     "output_type": "execute_result"
    }
   ],
   "source": [
    "df['Age'].value_counts()"
   ]
  },
  {
   "cell_type": "code",
   "execution_count": 287,
   "id": "0f173d92-27ed-4ff0-9788-c991a66606b8",
   "metadata": {},
   "outputs": [
    {
     "data": {
      "text/plain": [
       "0"
      ]
     },
     "execution_count": 287,
     "metadata": {},
     "output_type": "execute_result"
    }
   ],
   "source": [
    "df['Age'].isnull().sum()"
   ]
  },
  {
   "cell_type": "code",
   "execution_count": 289,
   "id": "44b43bbb-68e2-40bd-91ea-4903459625da",
   "metadata": {},
   "outputs": [
    {
     "data": {
      "text/plain": [
       "0       Aaron Maashoh\n",
       "1       Aaron Maashoh\n",
       "3       Aaron Maashoh\n",
       "4       Aaron Maashoh\n",
       "5       Aaron Maashoh\n",
       "6       Aaron Maashoh\n",
       "7                   -\n",
       "9     Rick Rothackerj\n",
       "10    Rick Rothackerj\n",
       "11    Rick Rothackerj\n",
       "12    Rick Rothackerj\n",
       "13    Rick Rothackerj\n",
       "14    Rick Rothackerj\n",
       "15    Rick Rothackerj\n",
       "16             Langep\n",
       "17                  -\n",
       "18             Langep\n",
       "19             Langep\n",
       "20             Langep\n",
       "21             Langep\n",
       "Name: Name, dtype: object"
      ]
     },
     "execution_count": 289,
     "metadata": {},
     "output_type": "execute_result"
    }
   ],
   "source": [
    "# заменим пустые значения имени на -.\n",
    "df['Name'].fillna('-', inplace=True)\n",
    "\n",
    "df['Name'].head(20)"
   ]
  },
  {
   "cell_type": "code",
   "execution_count": 291,
   "id": "b5c4e814-7bb3-47a9-8e01-43e58c574913",
   "metadata": {},
   "outputs": [
    {
     "data": {
      "text/plain": [
       "Type_of_Loan\n",
       "No Loan                                     10355\n",
       "Not Specified                                1283\n",
       "Credit-Builder Loan                          1167\n",
       "Personal Loan                                1167\n",
       "Debt Consolidation Loan                      1159\n",
       "Student Loan                                 1139\n",
       "Payday Loan                                  1084\n",
       "Mortgage Loan                                1077\n",
       "Auto Loan                                    1060\n",
       "Home Equity Loan                             1009\n",
       "Personal Loan, and Student Loan               294\n",
       "Mortgage Loan, and Home Equity Loan           249\n",
       "Not Specified, and Payday Loan                241\n",
       "Credit-Builder Loan, and Not Specified        232\n",
       "Student Loan, and Payday Loan                 228\n",
       "Payday Loan, and Debt Consolidation Loan      226\n",
       "Student Loan, and Credit-Builder Loan         223\n",
       "Payday Loan, and Student Loan                 215\n",
       "Payday Loan, and Personal Loan                213\n",
       "Mortgage Loan, and Not Specified              210\n",
       "Name: count, dtype: int64"
      ]
     },
     "execution_count": 291,
     "metadata": {},
     "output_type": "execute_result"
    }
   ],
   "source": [
    "# Заменим пустые значения на новое значения No Loan\n",
    "df['Type_of_Loan'].fillna('No Loan', inplace=True)\n",
    "df['Type_of_Loan'].value_counts().head(20)"
   ]
  },
  {
   "cell_type": "code",
   "execution_count": 293,
   "id": "508144a8-0f37-4582-9212-2ac65c6f36d9",
   "metadata": {},
   "outputs": [],
   "source": [
    "med_Monthly_Inhand_Salary = df['Monthly_Inhand_Salary'].median() # рассчитываем медиану\n",
    "df['Monthly_Inhand_Salary'] = df['Monthly_Inhand_Salary'].fillna(med_Monthly_Inhand_Salary) "
   ]
  },
  {
   "cell_type": "code",
   "execution_count": 295,
   "id": "fbd01ab7-691b-4450-8b13-c95bc43edf6d",
   "metadata": {},
   "outputs": [],
   "source": [
    "df.dropna(subset=['Num_of_Delayed_Payment'], inplace=True)"
   ]
  },
  {
   "cell_type": "code",
   "execution_count": 297,
   "id": "191a2340-e4f6-4ef1-9a4d-a7e8fea01876",
   "metadata": {},
   "outputs": [
    {
     "data": {
      "text/plain": [
       "ID                             0\n",
       "Customer_ID                    0\n",
       "Month                          0\n",
       "Name                           0\n",
       "Age                            0\n",
       "SSN                            0\n",
       "Occupation                     0\n",
       "Annual_Income                  0\n",
       "Monthly_Inhand_Salary          0\n",
       "Num_Bank_Accounts              0\n",
       "Num_Credit_Card                0\n",
       "Interest_Rate                  0\n",
       "Num_of_Loan                 3758\n",
       "Type_of_Loan                   0\n",
       "Delay_from_due_date            0\n",
       "Num_of_Delayed_Payment         0\n",
       "Changed_Credit_Limit        1637\n",
       "Num_Credit_Inquiries        1539\n",
       "Credit_Mix                     0\n",
       "Outstanding_Debt             800\n",
       "Credit_Utilization_Ratio       0\n",
       "Credit_History_Age          7079\n",
       "Payment_of_Min_Amount          0\n",
       "Total_EMI_per_month            0\n",
       "Amount_invested_monthly     6898\n",
       "Payment_Behaviour              0\n",
       "Monthly_Balance              917\n",
       "Credit_Score                   0\n",
       "dtype: int64"
      ]
     },
     "execution_count": 297,
     "metadata": {},
     "output_type": "execute_result"
    }
   ],
   "source": [
    "df.isnull().sum()"
   ]
  },
  {
   "cell_type": "code",
   "execution_count": 299,
   "id": "fcd0b7a0-487c-4716-8180-9d4bdf5d104a",
   "metadata": {},
   "outputs": [],
   "source": [
    "df['Num_of_Loan'].fillna(0, inplace=True)"
   ]
  },
  {
   "cell_type": "code",
   "execution_count": 301,
   "id": "06ec0f5a-d202-4808-b76b-accf9a59a99a",
   "metadata": {},
   "outputs": [
    {
     "data": {
      "text/plain": [
       "0"
      ]
     },
     "execution_count": 301,
     "metadata": {},
     "output_type": "execute_result"
    }
   ],
   "source": [
    "df['Num_of_Loan'].isnull().sum()"
   ]
  },
  {
   "cell_type": "code",
   "execution_count": 303,
   "id": "20bb4312-edc2-4b55-971f-fe964a6feaa9",
   "metadata": {},
   "outputs": [
    {
     "data": {
      "text/plain": [
       "Changed_Credit_Limit\n",
       "0.00     1641\n",
       "8.22      116\n",
       "11.32     107\n",
       "10.06     105\n",
       "7.35      100\n",
       "11.50     100\n",
       "11.49      98\n",
       "8.23       95\n",
       "8.99       91\n",
       "7.33       91\n",
       "3.93       89\n",
       "7.64       87\n",
       "9.88       87\n",
       "7.69       86\n",
       "11.73      85\n",
       "7.23       84\n",
       "8.54       84\n",
       "10.54      83\n",
       "8.30       83\n",
       "8.76       81\n",
       "Name: count, dtype: int64"
      ]
     },
     "execution_count": 303,
     "metadata": {},
     "output_type": "execute_result"
    }
   ],
   "source": [
    "# Заменим пустые значения на новое значения No Changed\n",
    "df['Changed_Credit_Limit'].fillna(0, inplace=True)\n",
    "df['Changed_Credit_Limit'].value_counts().head(20)"
   ]
  },
  {
   "cell_type": "code",
   "execution_count": 305,
   "id": "22c3d2fb-8bd1-432d-970c-7b4506cc8737",
   "metadata": {},
   "outputs": [],
   "source": [
    "med_Num_Credit_Inquiries = df['Num_Credit_Inquiries'].median() # рассчитываем медиану\n",
    "df['Num_Credit_Inquiries'] = df['Num_Credit_Inquiries'].fillna(med_Num_Credit_Inquiries) "
   ]
  },
  {
   "cell_type": "code",
   "execution_count": 307,
   "id": "f4f57649-ef87-4bb8-a19b-225e12e678aa",
   "metadata": {},
   "outputs": [],
   "source": [
    "med_Outstanding_Debt = df['Outstanding_Debt'].median() # рассчитываем медиану\n",
    "df['Outstanding_Debt'] = df['Outstanding_Debt'].fillna(med_Outstanding_Debt)"
   ]
  },
  {
   "cell_type": "code",
   "execution_count": 309,
   "id": "b615967f-20bc-4a87-b01b-badd5fee986c",
   "metadata": {},
   "outputs": [
    {
     "name": "stdout",
     "output_type": "stream",
     "text": [
      "      Credit_History_Age\n",
      "0  22 Years and 1 Months\n",
      "3  22 Years and 4 Months\n",
      "5  22 Years and 6 Months\n",
      "7  19 Years and 5 Months\n",
      "9  26 Years and 8 Months\n"
     ]
    }
   ],
   "source": [
    "# Список колонок, в которых нужно заменить пропущенные значения на самые популярные\n",
    "columns_to_fill = ['Credit_History_Age']\n",
    "\n",
    "# Замена пропущенных значений на самые популярные в указанных колонках\n",
    "for column in columns_to_fill:\n",
    "    most_frequent_value = df[column].value_counts().idxmax()\n",
    "    df[column].fillna(most_frequent_value, inplace=True)\n",
    "\n",
    "print(df[columns_to_fill].head())"
   ]
  },
  {
   "cell_type": "code",
   "execution_count": 311,
   "id": "a20db8b1-64b9-4775-927c-24e37dec12b2",
   "metadata": {},
   "outputs": [
    {
     "data": {
      "text/plain": [
       "Amount_invested_monthly\n",
       "0.000000      115\n",
       "80.415295       1\n",
       "160.663824      1\n",
       "434.335365      1\n",
       "249.020652      1\n",
       "100.928120      1\n",
       "50.307421       1\n",
       "123.339404      1\n",
       "79.705859       1\n",
       "59.476467       1\n",
       "132.962276      1\n",
       "86.481173       1\n",
       "127.715902      1\n",
       "38.288162       1\n",
       "106.613084      1\n",
       "111.108914      1\n",
       "519.120768      1\n",
       "70.814691       1\n",
       "77.291937       1\n",
       "153.374452      1\n",
       "Name: count, dtype: int64"
      ]
     },
     "execution_count": 311,
     "metadata": {},
     "output_type": "execute_result"
    }
   ],
   "source": [
    "df['Amount_invested_monthly'].value_counts().head(20)"
   ]
  },
  {
   "cell_type": "code",
   "execution_count": 313,
   "id": "ce27eef6-58be-4c79-a36d-4c35faef54eb",
   "metadata": {},
   "outputs": [],
   "source": [
    "# Нахождение самого популярного значения в колонке 'Amount_invested_monthly'\n",
    "most_frequent_value_amount = df['Amount_invested_monthly'].value_counts().idxmax()\n",
    "\n",
    "# Замена пропущенных значений на самое популярное значение\n",
    "df['Amount_invested_monthly'].fillna(most_frequent_value_amount, inplace=True)"
   ]
  },
  {
   "cell_type": "code",
   "execution_count": 315,
   "id": "221b4786-b3e6-4430-b2fe-27dd26cf15c4",
   "metadata": {},
   "outputs": [],
   "source": [
    "median_value_monthly_balance = df['Monthly_Balance'].median()\n",
    "df['Monthly_Balance'].fillna(median_value_monthly_balance, inplace=True)"
   ]
  },
  {
   "cell_type": "code",
   "execution_count": 317,
   "id": "eab07af9-6abe-4b78-b18a-c0262c25e5f2",
   "metadata": {},
   "outputs": [],
   "source": [
    "# удаляем отрицательные значения \n",
    "df = df.loc[df['Num_Bank_Accounts'] > 0]"
   ]
  },
  {
   "cell_type": "code",
   "execution_count": 319,
   "id": "3c86f05d-4c75-4a3e-bf86-1f28ed84156b",
   "metadata": {},
   "outputs": [],
   "source": [
    "# удаляем отрицательные значения \n",
    "df = df.loc[df['Delay_from_due_date'] > 0]"
   ]
  },
  {
   "cell_type": "code",
   "execution_count": 321,
   "id": "a388a002-102d-4cc4-8f31-f5104ae47f62",
   "metadata": {},
   "outputs": [],
   "source": [
    "# Удаление строк с пропущенными значениями в колонке 'Num_of_Delayed_Payment'\n",
    "df.dropna(subset=['Num_of_Delayed_Payment'], inplace=True)"
   ]
  },
  {
   "cell_type": "code",
   "execution_count": 323,
   "id": "0f69b0d7-f054-4144-be5d-edc74513b330",
   "metadata": {},
   "outputs": [
    {
     "data": {
      "text/plain": [
       "0     4.0\n",
       "3     4.0\n",
       "5     4.0\n",
       "7     4.0\n",
       "9     1.0\n",
       "10    1.0\n",
       "12    1.0\n",
       "13    1.0\n",
       "14    1.0\n",
       "15    1.0\n",
       "16    3.0\n",
       "17    3.0\n",
       "18    3.0\n",
       "19    3.0\n",
       "20    3.0\n",
       "22    3.0\n",
       "23    3.0\n",
       "25    1.0\n",
       "26    1.0\n",
       "27    1.0\n",
       "Name: Num_of_Loan, dtype: float64"
      ]
     },
     "execution_count": 323,
     "metadata": {},
     "output_type": "execute_result"
    }
   ],
   "source": [
    "df['Num_of_Loan'] = pd.to_numeric(df['Num_of_Loan'], errors='coerce')\n",
    "df = df[(df['Num_of_Loan'] >= 0) & (df['Num_of_Loan'] <= 10)]\n",
    "df['Num_of_Loan'].head(20)"
   ]
  },
  {
   "cell_type": "code",
   "execution_count": 325,
   "id": "7d285159-2616-4282-bbfd-ef760acac655",
   "metadata": {},
   "outputs": [],
   "source": [
    "df = df.loc[df['Changed_Credit_Limit'] > 0]"
   ]
  },
  {
   "cell_type": "code",
   "execution_count": 327,
   "id": "6fe7fb6c-06e0-43b5-8294-cd118fd9ea2f",
   "metadata": {},
   "outputs": [],
   "source": [
    "df = df.loc[df['Num_of_Delayed_Payment'] > 0]"
   ]
  },
  {
   "cell_type": "code",
   "execution_count": 329,
   "id": "4a68b545-e317-4cd4-83fb-535d769d563a",
   "metadata": {},
   "outputs": [
    {
     "data": {
      "text/plain": [
       "ID                          0\n",
       "Customer_ID                 0\n",
       "Month                       0\n",
       "Name                        0\n",
       "Age                         0\n",
       "SSN                         0\n",
       "Occupation                  0\n",
       "Annual_Income               0\n",
       "Monthly_Inhand_Salary       0\n",
       "Num_Bank_Accounts           0\n",
       "Num_Credit_Card             0\n",
       "Interest_Rate               0\n",
       "Num_of_Loan                 0\n",
       "Type_of_Loan                0\n",
       "Delay_from_due_date         0\n",
       "Num_of_Delayed_Payment      0\n",
       "Changed_Credit_Limit        0\n",
       "Num_Credit_Inquiries        0\n",
       "Credit_Mix                  0\n",
       "Outstanding_Debt            0\n",
       "Credit_Utilization_Ratio    0\n",
       "Credit_History_Age          0\n",
       "Payment_of_Min_Amount       0\n",
       "Total_EMI_per_month         0\n",
       "Amount_invested_monthly     0\n",
       "Payment_Behaviour           0\n",
       "Monthly_Balance             0\n",
       "Credit_Score                0\n",
       "dtype: int64"
      ]
     },
     "execution_count": 329,
     "metadata": {},
     "output_type": "execute_result"
    }
   ],
   "source": [
    "df.isnull().sum()"
   ]
  },
  {
   "cell_type": "code",
   "execution_count": 331,
   "id": "4fd3cb8b-3a48-4f5f-bba6-e726d809150a",
   "metadata": {},
   "outputs": [
    {
     "data": {
      "text/html": [
       "<div>\n",
       "<style scoped>\n",
       "    .dataframe tbody tr th:only-of-type {\n",
       "        vertical-align: middle;\n",
       "    }\n",
       "\n",
       "    .dataframe tbody tr th {\n",
       "        vertical-align: top;\n",
       "    }\n",
       "\n",
       "    .dataframe thead th {\n",
       "        text-align: right;\n",
       "    }\n",
       "</style>\n",
       "<table border=\"1\" class=\"dataframe\">\n",
       "  <thead>\n",
       "    <tr style=\"text-align: right;\">\n",
       "      <th></th>\n",
       "      <th>count</th>\n",
       "      <th>unique</th>\n",
       "      <th>top</th>\n",
       "      <th>freq</th>\n",
       "      <th>mean</th>\n",
       "      <th>std</th>\n",
       "      <th>min</th>\n",
       "      <th>25%</th>\n",
       "      <th>50%</th>\n",
       "      <th>75%</th>\n",
       "      <th>max</th>\n",
       "    </tr>\n",
       "  </thead>\n",
       "  <tbody>\n",
       "    <tr>\n",
       "      <th>ID</th>\n",
       "      <td>66429</td>\n",
       "      <td>66429</td>\n",
       "      <td>0x1602</td>\n",
       "      <td>1</td>\n",
       "      <td>NaN</td>\n",
       "      <td>NaN</td>\n",
       "      <td>NaN</td>\n",
       "      <td>NaN</td>\n",
       "      <td>NaN</td>\n",
       "      <td>NaN</td>\n",
       "      <td>NaN</td>\n",
       "    </tr>\n",
       "    <tr>\n",
       "      <th>Customer_ID</th>\n",
       "      <td>66429</td>\n",
       "      <td>11176</td>\n",
       "      <td>CUS_0x228d</td>\n",
       "      <td>8</td>\n",
       "      <td>NaN</td>\n",
       "      <td>NaN</td>\n",
       "      <td>NaN</td>\n",
       "      <td>NaN</td>\n",
       "      <td>NaN</td>\n",
       "      <td>NaN</td>\n",
       "      <td>NaN</td>\n",
       "    </tr>\n",
       "    <tr>\n",
       "      <th>Month</th>\n",
       "      <td>66429</td>\n",
       "      <td>8</td>\n",
       "      <td>August</td>\n",
       "      <td>8372</td>\n",
       "      <td>NaN</td>\n",
       "      <td>NaN</td>\n",
       "      <td>NaN</td>\n",
       "      <td>NaN</td>\n",
       "      <td>NaN</td>\n",
       "      <td>NaN</td>\n",
       "      <td>NaN</td>\n",
       "    </tr>\n",
       "    <tr>\n",
       "      <th>Name</th>\n",
       "      <td>66429</td>\n",
       "      <td>9255</td>\n",
       "      <td>-</td>\n",
       "      <td>6662</td>\n",
       "      <td>NaN</td>\n",
       "      <td>NaN</td>\n",
       "      <td>NaN</td>\n",
       "      <td>NaN</td>\n",
       "      <td>NaN</td>\n",
       "      <td>NaN</td>\n",
       "      <td>NaN</td>\n",
       "    </tr>\n",
       "    <tr>\n",
       "      <th>Age</th>\n",
       "      <td>66429.0</td>\n",
       "      <td>NaN</td>\n",
       "      <td>NaN</td>\n",
       "      <td>NaN</td>\n",
       "      <td>34.109922</td>\n",
       "      <td>9.979754</td>\n",
       "      <td>18.0</td>\n",
       "      <td>26.0</td>\n",
       "      <td>34.0</td>\n",
       "      <td>42.0</td>\n",
       "      <td>95.0</td>\n",
       "    </tr>\n",
       "    <tr>\n",
       "      <th>SSN</th>\n",
       "      <td>66429</td>\n",
       "      <td>11169</td>\n",
       "      <td>#F%$D@*&amp;8</td>\n",
       "      <td>3723</td>\n",
       "      <td>NaN</td>\n",
       "      <td>NaN</td>\n",
       "      <td>NaN</td>\n",
       "      <td>NaN</td>\n",
       "      <td>NaN</td>\n",
       "      <td>NaN</td>\n",
       "      <td>NaN</td>\n",
       "    </tr>\n",
       "    <tr>\n",
       "      <th>Occupation</th>\n",
       "      <td>66429</td>\n",
       "      <td>16</td>\n",
       "      <td>_______</td>\n",
       "      <td>4677</td>\n",
       "      <td>NaN</td>\n",
       "      <td>NaN</td>\n",
       "      <td>NaN</td>\n",
       "      <td>NaN</td>\n",
       "      <td>NaN</td>\n",
       "      <td>NaN</td>\n",
       "      <td>NaN</td>\n",
       "    </tr>\n",
       "    <tr>\n",
       "      <th>Annual_Income</th>\n",
       "      <td>66429</td>\n",
       "      <td>15679</td>\n",
       "      <td>40341.16</td>\n",
       "      <td>13</td>\n",
       "      <td>NaN</td>\n",
       "      <td>NaN</td>\n",
       "      <td>NaN</td>\n",
       "      <td>NaN</td>\n",
       "      <td>NaN</td>\n",
       "      <td>NaN</td>\n",
       "      <td>NaN</td>\n",
       "    </tr>\n",
       "    <tr>\n",
       "      <th>Monthly_Inhand_Salary</th>\n",
       "      <td>66429.0</td>\n",
       "      <td>NaN</td>\n",
       "      <td>NaN</td>\n",
       "      <td>NaN</td>\n",
       "      <td>3968.850789</td>\n",
       "      <td>2901.228128</td>\n",
       "      <td>303.645417</td>\n",
       "      <td>1763.386667</td>\n",
       "      <td>3136.363333</td>\n",
       "      <td>5280.946608</td>\n",
       "      <td>15204.633333</td>\n",
       "    </tr>\n",
       "    <tr>\n",
       "      <th>Num_Bank_Accounts</th>\n",
       "      <td>66429.0</td>\n",
       "      <td>NaN</td>\n",
       "      <td>NaN</td>\n",
       "      <td>NaN</td>\n",
       "      <td>18.24259</td>\n",
       "      <td>121.590107</td>\n",
       "      <td>1.0</td>\n",
       "      <td>4.0</td>\n",
       "      <td>6.0</td>\n",
       "      <td>8.0</td>\n",
       "      <td>1798.0</td>\n",
       "    </tr>\n",
       "    <tr>\n",
       "      <th>Num_Credit_Card</th>\n",
       "      <td>66429.0</td>\n",
       "      <td>NaN</td>\n",
       "      <td>NaN</td>\n",
       "      <td>NaN</td>\n",
       "      <td>22.665011</td>\n",
       "      <td>129.306201</td>\n",
       "      <td>0.0</td>\n",
       "      <td>4.0</td>\n",
       "      <td>6.0</td>\n",
       "      <td>7.0</td>\n",
       "      <td>1499.0</td>\n",
       "    </tr>\n",
       "    <tr>\n",
       "      <th>Interest_Rate</th>\n",
       "      <td>66429.0</td>\n",
       "      <td>NaN</td>\n",
       "      <td>NaN</td>\n",
       "      <td>NaN</td>\n",
       "      <td>73.317467</td>\n",
       "      <td>470.299112</td>\n",
       "      <td>1.0</td>\n",
       "      <td>8.0</td>\n",
       "      <td>15.0</td>\n",
       "      <td>21.0</td>\n",
       "      <td>5797.0</td>\n",
       "    </tr>\n",
       "    <tr>\n",
       "      <th>Num_of_Loan</th>\n",
       "      <td>66429.0</td>\n",
       "      <td>NaN</td>\n",
       "      <td>NaN</td>\n",
       "      <td>NaN</td>\n",
       "      <td>3.407352</td>\n",
       "      <td>2.511823</td>\n",
       "      <td>0.0</td>\n",
       "      <td>1.0</td>\n",
       "      <td>3.0</td>\n",
       "      <td>5.0</td>\n",
       "      <td>9.0</td>\n",
       "    </tr>\n",
       "    <tr>\n",
       "      <th>Type_of_Loan</th>\n",
       "      <td>66429</td>\n",
       "      <td>5695</td>\n",
       "      <td>No Loan</td>\n",
       "      <td>7250</td>\n",
       "      <td>NaN</td>\n",
       "      <td>NaN</td>\n",
       "      <td>NaN</td>\n",
       "      <td>NaN</td>\n",
       "      <td>NaN</td>\n",
       "      <td>NaN</td>\n",
       "      <td>NaN</td>\n",
       "    </tr>\n",
       "    <tr>\n",
       "      <th>Delay_from_due_date</th>\n",
       "      <td>66429.0</td>\n",
       "      <td>NaN</td>\n",
       "      <td>NaN</td>\n",
       "      <td>NaN</td>\n",
       "      <td>21.861025</td>\n",
       "      <td>14.596226</td>\n",
       "      <td>1.0</td>\n",
       "      <td>11.0</td>\n",
       "      <td>19.0</td>\n",
       "      <td>28.0</td>\n",
       "      <td>67.0</td>\n",
       "    </tr>\n",
       "    <tr>\n",
       "      <th>Num_of_Delayed_Payment</th>\n",
       "      <td>66429.0</td>\n",
       "      <td>NaN</td>\n",
       "      <td>NaN</td>\n",
       "      <td>NaN</td>\n",
       "      <td>32.230788</td>\n",
       "      <td>230.722554</td>\n",
       "      <td>1.0</td>\n",
       "      <td>10.0</td>\n",
       "      <td>14.0</td>\n",
       "      <td>19.0</td>\n",
       "      <td>4397.0</td>\n",
       "    </tr>\n",
       "    <tr>\n",
       "      <th>Changed_Credit_Limit</th>\n",
       "      <td>66429.0</td>\n",
       "      <td>NaN</td>\n",
       "      <td>NaN</td>\n",
       "      <td>NaN</td>\n",
       "      <td>10.779183</td>\n",
       "      <td>6.676461</td>\n",
       "      <td>0.01</td>\n",
       "      <td>5.75</td>\n",
       "      <td>9.7</td>\n",
       "      <td>15.3</td>\n",
       "      <td>36.49</td>\n",
       "    </tr>\n",
       "    <tr>\n",
       "      <th>Num_Credit_Inquiries</th>\n",
       "      <td>66429.0</td>\n",
       "      <td>NaN</td>\n",
       "      <td>NaN</td>\n",
       "      <td>NaN</td>\n",
       "      <td>27.107769</td>\n",
       "      <td>189.102037</td>\n",
       "      <td>0.0</td>\n",
       "      <td>3.0</td>\n",
       "      <td>6.0</td>\n",
       "      <td>9.0</td>\n",
       "      <td>2597.0</td>\n",
       "    </tr>\n",
       "    <tr>\n",
       "      <th>Credit_Mix</th>\n",
       "      <td>66429</td>\n",
       "      <td>4</td>\n",
       "      <td>Standard</td>\n",
       "      <td>26262</td>\n",
       "      <td>NaN</td>\n",
       "      <td>NaN</td>\n",
       "      <td>NaN</td>\n",
       "      <td>NaN</td>\n",
       "      <td>NaN</td>\n",
       "      <td>NaN</td>\n",
       "      <td>NaN</td>\n",
       "    </tr>\n",
       "    <tr>\n",
       "      <th>Outstanding_Debt</th>\n",
       "      <td>66429.0</td>\n",
       "      <td>NaN</td>\n",
       "      <td>NaN</td>\n",
       "      <td>NaN</td>\n",
       "      <td>1448.564754</td>\n",
       "      <td>1163.104745</td>\n",
       "      <td>0.34</td>\n",
       "      <td>583.6</td>\n",
       "      <td>1171.73</td>\n",
       "      <td>1980.0</td>\n",
       "      <td>4998.07</td>\n",
       "    </tr>\n",
       "    <tr>\n",
       "      <th>Credit_Utilization_Ratio</th>\n",
       "      <td>66429.0</td>\n",
       "      <td>NaN</td>\n",
       "      <td>NaN</td>\n",
       "      <td>NaN</td>\n",
       "      <td>32.269948</td>\n",
       "      <td>5.110092</td>\n",
       "      <td>20.0</td>\n",
       "      <td>28.04863</td>\n",
       "      <td>32.302437</td>\n",
       "      <td>36.48675</td>\n",
       "      <td>49.564519</td>\n",
       "    </tr>\n",
       "    <tr>\n",
       "      <th>Credit_History_Age</th>\n",
       "      <td>66429</td>\n",
       "      <td>404</td>\n",
       "      <td>19 Years and 5 Months</td>\n",
       "      <td>6323</td>\n",
       "      <td>NaN</td>\n",
       "      <td>NaN</td>\n",
       "      <td>NaN</td>\n",
       "      <td>NaN</td>\n",
       "      <td>NaN</td>\n",
       "      <td>NaN</td>\n",
       "      <td>NaN</td>\n",
       "    </tr>\n",
       "    <tr>\n",
       "      <th>Payment_of_Min_Amount</th>\n",
       "      <td>66429</td>\n",
       "      <td>3</td>\n",
       "      <td>Yes</td>\n",
       "      <td>36629</td>\n",
       "      <td>NaN</td>\n",
       "      <td>NaN</td>\n",
       "      <td>NaN</td>\n",
       "      <td>NaN</td>\n",
       "      <td>NaN</td>\n",
       "      <td>NaN</td>\n",
       "      <td>NaN</td>\n",
       "    </tr>\n",
       "    <tr>\n",
       "      <th>Total_EMI_per_month</th>\n",
       "      <td>66429.0</td>\n",
       "      <td>NaN</td>\n",
       "      <td>NaN</td>\n",
       "      <td>NaN</td>\n",
       "      <td>1404.500249</td>\n",
       "      <td>8297.200317</td>\n",
       "      <td>0.0</td>\n",
       "      <td>30.687932</td>\n",
       "      <td>68.896136</td>\n",
       "      <td>160.255399</td>\n",
       "      <td>82331.0</td>\n",
       "    </tr>\n",
       "    <tr>\n",
       "      <th>Amount_invested_monthly</th>\n",
       "      <td>66429.0</td>\n",
       "      <td>NaN</td>\n",
       "      <td>NaN</td>\n",
       "      <td>NaN</td>\n",
       "      <td>175.393639</td>\n",
       "      <td>194.502129</td>\n",
       "      <td>0.0</td>\n",
       "      <td>57.488665</td>\n",
       "      <td>115.04258</td>\n",
       "      <td>215.874981</td>\n",
       "      <td>1977.326102</td>\n",
       "    </tr>\n",
       "    <tr>\n",
       "      <th>Payment_Behaviour</th>\n",
       "      <td>66429</td>\n",
       "      <td>7</td>\n",
       "      <td>Low_spent_Small_value_payments</td>\n",
       "      <td>17115</td>\n",
       "      <td>NaN</td>\n",
       "      <td>NaN</td>\n",
       "      <td>NaN</td>\n",
       "      <td>NaN</td>\n",
       "      <td>NaN</td>\n",
       "      <td>NaN</td>\n",
       "      <td>NaN</td>\n",
       "    </tr>\n",
       "    <tr>\n",
       "      <th>Monthly_Balance</th>\n",
       "      <td>66429.0</td>\n",
       "      <td>NaN</td>\n",
       "      <td>NaN</td>\n",
       "      <td>NaN</td>\n",
       "      <td>397.298559</td>\n",
       "      <td>208.442157</td>\n",
       "      <td>0.00776</td>\n",
       "      <td>269.759321</td>\n",
       "      <td>335.979949</td>\n",
       "      <td>461.8778</td>\n",
       "      <td>1576.288935</td>\n",
       "    </tr>\n",
       "    <tr>\n",
       "      <th>Credit_Score</th>\n",
       "      <td>66429</td>\n",
       "      <td>3</td>\n",
       "      <td>Standard</td>\n",
       "      <td>36448</td>\n",
       "      <td>NaN</td>\n",
       "      <td>NaN</td>\n",
       "      <td>NaN</td>\n",
       "      <td>NaN</td>\n",
       "      <td>NaN</td>\n",
       "      <td>NaN</td>\n",
       "      <td>NaN</td>\n",
       "    </tr>\n",
       "  </tbody>\n",
       "</table>\n",
       "</div>"
      ],
      "text/plain": [
       "                            count unique                             top  \\\n",
       "ID                          66429  66429                          0x1602   \n",
       "Customer_ID                 66429  11176                      CUS_0x228d   \n",
       "Month                       66429      8                          August   \n",
       "Name                        66429   9255                               -   \n",
       "Age                       66429.0    NaN                             NaN   \n",
       "SSN                         66429  11169                       #F%$D@*&8   \n",
       "Occupation                  66429     16                         _______   \n",
       "Annual_Income               66429  15679                        40341.16   \n",
       "Monthly_Inhand_Salary     66429.0    NaN                             NaN   \n",
       "Num_Bank_Accounts         66429.0    NaN                             NaN   \n",
       "Num_Credit_Card           66429.0    NaN                             NaN   \n",
       "Interest_Rate             66429.0    NaN                             NaN   \n",
       "Num_of_Loan               66429.0    NaN                             NaN   \n",
       "Type_of_Loan                66429   5695                         No Loan   \n",
       "Delay_from_due_date       66429.0    NaN                             NaN   \n",
       "Num_of_Delayed_Payment    66429.0    NaN                             NaN   \n",
       "Changed_Credit_Limit      66429.0    NaN                             NaN   \n",
       "Num_Credit_Inquiries      66429.0    NaN                             NaN   \n",
       "Credit_Mix                  66429      4                        Standard   \n",
       "Outstanding_Debt          66429.0    NaN                             NaN   \n",
       "Credit_Utilization_Ratio  66429.0    NaN                             NaN   \n",
       "Credit_History_Age          66429    404           19 Years and 5 Months   \n",
       "Payment_of_Min_Amount       66429      3                             Yes   \n",
       "Total_EMI_per_month       66429.0    NaN                             NaN   \n",
       "Amount_invested_monthly   66429.0    NaN                             NaN   \n",
       "Payment_Behaviour           66429      7  Low_spent_Small_value_payments   \n",
       "Monthly_Balance           66429.0    NaN                             NaN   \n",
       "Credit_Score                66429      3                        Standard   \n",
       "\n",
       "                           freq         mean          std         min  \\\n",
       "ID                            1          NaN          NaN         NaN   \n",
       "Customer_ID                   8          NaN          NaN         NaN   \n",
       "Month                      8372          NaN          NaN         NaN   \n",
       "Name                       6662          NaN          NaN         NaN   \n",
       "Age                         NaN    34.109922     9.979754        18.0   \n",
       "SSN                        3723          NaN          NaN         NaN   \n",
       "Occupation                 4677          NaN          NaN         NaN   \n",
       "Annual_Income                13          NaN          NaN         NaN   \n",
       "Monthly_Inhand_Salary       NaN  3968.850789  2901.228128  303.645417   \n",
       "Num_Bank_Accounts           NaN     18.24259   121.590107         1.0   \n",
       "Num_Credit_Card             NaN    22.665011   129.306201         0.0   \n",
       "Interest_Rate               NaN    73.317467   470.299112         1.0   \n",
       "Num_of_Loan                 NaN     3.407352     2.511823         0.0   \n",
       "Type_of_Loan               7250          NaN          NaN         NaN   \n",
       "Delay_from_due_date         NaN    21.861025    14.596226         1.0   \n",
       "Num_of_Delayed_Payment      NaN    32.230788   230.722554         1.0   \n",
       "Changed_Credit_Limit        NaN    10.779183     6.676461        0.01   \n",
       "Num_Credit_Inquiries        NaN    27.107769   189.102037         0.0   \n",
       "Credit_Mix                26262          NaN          NaN         NaN   \n",
       "Outstanding_Debt            NaN  1448.564754  1163.104745        0.34   \n",
       "Credit_Utilization_Ratio    NaN    32.269948     5.110092        20.0   \n",
       "Credit_History_Age         6323          NaN          NaN         NaN   \n",
       "Payment_of_Min_Amount     36629          NaN          NaN         NaN   \n",
       "Total_EMI_per_month         NaN  1404.500249  8297.200317         0.0   \n",
       "Amount_invested_monthly     NaN   175.393639   194.502129         0.0   \n",
       "Payment_Behaviour         17115          NaN          NaN         NaN   \n",
       "Monthly_Balance             NaN   397.298559   208.442157     0.00776   \n",
       "Credit_Score              36448          NaN          NaN         NaN   \n",
       "\n",
       "                                  25%          50%          75%           max  \n",
       "ID                                NaN          NaN          NaN           NaN  \n",
       "Customer_ID                       NaN          NaN          NaN           NaN  \n",
       "Month                             NaN          NaN          NaN           NaN  \n",
       "Name                              NaN          NaN          NaN           NaN  \n",
       "Age                              26.0         34.0         42.0          95.0  \n",
       "SSN                               NaN          NaN          NaN           NaN  \n",
       "Occupation                        NaN          NaN          NaN           NaN  \n",
       "Annual_Income                     NaN          NaN          NaN           NaN  \n",
       "Monthly_Inhand_Salary     1763.386667  3136.363333  5280.946608  15204.633333  \n",
       "Num_Bank_Accounts                 4.0          6.0          8.0        1798.0  \n",
       "Num_Credit_Card                   4.0          6.0          7.0        1499.0  \n",
       "Interest_Rate                     8.0         15.0         21.0        5797.0  \n",
       "Num_of_Loan                       1.0          3.0          5.0           9.0  \n",
       "Type_of_Loan                      NaN          NaN          NaN           NaN  \n",
       "Delay_from_due_date              11.0         19.0         28.0          67.0  \n",
       "Num_of_Delayed_Payment           10.0         14.0         19.0        4397.0  \n",
       "Changed_Credit_Limit             5.75          9.7         15.3         36.49  \n",
       "Num_Credit_Inquiries              3.0          6.0          9.0        2597.0  \n",
       "Credit_Mix                        NaN          NaN          NaN           NaN  \n",
       "Outstanding_Debt                583.6      1171.73       1980.0       4998.07  \n",
       "Credit_Utilization_Ratio     28.04863    32.302437     36.48675     49.564519  \n",
       "Credit_History_Age                NaN          NaN          NaN           NaN  \n",
       "Payment_of_Min_Amount             NaN          NaN          NaN           NaN  \n",
       "Total_EMI_per_month         30.687932    68.896136   160.255399       82331.0  \n",
       "Amount_invested_monthly     57.488665    115.04258   215.874981   1977.326102  \n",
       "Payment_Behaviour                 NaN          NaN          NaN           NaN  \n",
       "Monthly_Balance            269.759321   335.979949     461.8778   1576.288935  \n",
       "Credit_Score                      NaN          NaN          NaN           NaN  "
      ]
     },
     "execution_count": 331,
     "metadata": {},
     "output_type": "execute_result"
    }
   ],
   "source": [
    "df.describe(include='all').T"
   ]
  },
  {
   "cell_type": "code",
   "execution_count": 333,
   "id": "85f0d0f3-5b55-43ec-b1a1-d775b394a665",
   "metadata": {},
   "outputs": [
    {
     "name": "stdout",
     "output_type": "stream",
     "text": [
      "Кол-во пропусков в колонке ID = 0\n",
      "Кол-во пропусков в колонке Customer_ID = 0\n",
      "Кол-во пропусков в колонке Month = 0\n",
      "Кол-во пропусков в колонке Name = 0\n",
      "Кол-во пропусков в колонке Age = 0\n",
      "Кол-во пропусков в колонке SSN = 0\n",
      "Кол-во пропусков в колонке Occupation = 0\n",
      "Кол-во пропусков в колонке Annual_Income = 0\n",
      "Кол-во пропусков в колонке Monthly_Inhand_Salary = 0\n",
      "Кол-во пропусков в колонке Num_Bank_Accounts = 0\n",
      "Кол-во пропусков в колонке Num_Credit_Card = 0\n",
      "Кол-во пропусков в колонке Interest_Rate = 0\n",
      "Кол-во пропусков в колонке Num_of_Loan = 0\n",
      "Кол-во пропусков в колонке Type_of_Loan = 0\n",
      "Кол-во пропусков в колонке Delay_from_due_date = 0\n",
      "Кол-во пропусков в колонке Num_of_Delayed_Payment = 0\n",
      "Кол-во пропусков в колонке Changed_Credit_Limit = 0\n",
      "Кол-во пропусков в колонке Num_Credit_Inquiries = 0\n",
      "Кол-во пропусков в колонке Credit_Mix = 0\n",
      "Кол-во пропусков в колонке Outstanding_Debt = 0\n",
      "Кол-во пропусков в колонке Credit_Utilization_Ratio = 0\n",
      "Кол-во пропусков в колонке Credit_History_Age = 0\n",
      "Кол-во пропусков в колонке Payment_of_Min_Amount = 0\n",
      "Кол-во пропусков в колонке Total_EMI_per_month = 0\n",
      "Кол-во пропусков в колонке Amount_invested_monthly = 0\n",
      "Кол-во пропусков в колонке Payment_Behaviour = 0\n",
      "Кол-во пропусков в колонке Monthly_Balance = 0\n",
      "Кол-во пропусков в колонке Credit_Score = 0\n"
     ]
    }
   ],
   "source": [
    "for col in df.columns:\n",
    "    print('Кол-во пропусков в колонке %s = %d' % (col, df[col].isna().sum()))"
   ]
  },
  {
   "cell_type": "markdown",
   "id": "11832dd7-dfbd-4910-9bb9-e880dd58400a",
   "metadata": {},
   "source": [
    "### Вывод"
   ]
  },
  {
   "cell_type": "markdown",
   "id": "e337a2bd-3744-453e-aaac-4e02c4510098",
   "metadata": {},
   "source": [
    "Избавились от пустых значений"
   ]
  },
  {
   "cell_type": "code",
   "execution_count": 337,
   "id": "2af01a9b-8832-46ac-8034-cf50f071e831",
   "metadata": {},
   "outputs": [
    {
     "data": {
      "text/plain": [
       "array(['Scientist', 'Teacher', '_______', 'Engineer', 'Entrepreneur',\n",
       "       'Developer', 'Lawyer', 'Media_Manager', 'Doctor', 'Manager',\n",
       "       'Accountant', 'Musician', 'Mechanic', 'Writer', 'Architect',\n",
       "       'Journalist'], dtype=object)"
      ]
     },
     "execution_count": 337,
     "metadata": {},
     "output_type": "execute_result"
    }
   ],
   "source": [
    "#посмотрим уникальные значения занятости\n",
    "df['Occupation'].unique()"
   ]
  },
  {
   "cell_type": "code",
   "execution_count": 339,
   "id": "f8e0629e-b269-43ae-9bc3-613b0602a572",
   "metadata": {},
   "outputs": [
    {
     "data": {
      "text/plain": [
       "Occupation\n",
       "_______          4677\n",
       "Lawyer           4362\n",
       "Architect        4233\n",
       "Scientist        4212\n",
       "Mechanic         4208\n",
       "Engineer         4180\n",
       "Accountant       4179\n",
       "Journalist       4112\n",
       "Teacher          4111\n",
       "Developer        4094\n",
       "Musician         4063\n",
       "Media_Manager    4061\n",
       "Doctor           4041\n",
       "Entrepreneur     3996\n",
       "Manager          3953\n",
       "Writer           3947\n",
       "Name: count, dtype: int64"
      ]
     },
     "execution_count": 339,
     "metadata": {},
     "output_type": "execute_result"
    }
   ],
   "source": [
    "df['Occupation'].value_counts()"
   ]
  },
  {
   "cell_type": "code",
   "execution_count": 341,
   "id": "60e0dfc2-290e-441e-99ae-63acfa978c48",
   "metadata": {},
   "outputs": [
    {
     "data": {
      "text/plain": [
       "Occupation\n",
       "No Occupation    4677\n",
       "Lawyer           4362\n",
       "Architect        4233\n",
       "Scientist        4212\n",
       "Mechanic         4208\n",
       "Engineer         4180\n",
       "Accountant       4179\n",
       "Journalist       4112\n",
       "Teacher          4111\n",
       "Developer        4094\n",
       "Musician         4063\n",
       "Media_Manager    4061\n",
       "Doctor           4041\n",
       "Entrepreneur     3996\n",
       "Manager          3953\n",
       "Writer           3947\n",
       "Name: count, dtype: int64"
      ]
     },
     "execution_count": 341,
     "metadata": {},
     "output_type": "execute_result"
    }
   ],
   "source": [
    "df['Occupation']=df['Occupation'].replace('_______', 'No Occupation')\n",
    "df['Occupation'].value_counts()"
   ]
  },
  {
   "cell_type": "code",
   "execution_count": 343,
   "id": "4ed0a5f9-91d2-4c0e-866d-af0facf7ce36",
   "metadata": {},
   "outputs": [
    {
     "data": {
      "text/html": [
       "<div>\n",
       "<style scoped>\n",
       "    .dataframe tbody tr th:only-of-type {\n",
       "        vertical-align: middle;\n",
       "    }\n",
       "\n",
       "    .dataframe tbody tr th {\n",
       "        vertical-align: top;\n",
       "    }\n",
       "\n",
       "    .dataframe thead th {\n",
       "        text-align: right;\n",
       "    }\n",
       "</style>\n",
       "<table border=\"1\" class=\"dataframe\">\n",
       "  <thead>\n",
       "    <tr style=\"text-align: right;\">\n",
       "      <th></th>\n",
       "      <th>ID</th>\n",
       "      <th>Customer_ID</th>\n",
       "      <th>Month</th>\n",
       "      <th>Name</th>\n",
       "      <th>SSN</th>\n",
       "      <th>Occupation</th>\n",
       "      <th>Annual_Income</th>\n",
       "      <th>Type_of_Loan</th>\n",
       "      <th>Credit_Mix</th>\n",
       "      <th>Credit_History_Age</th>\n",
       "      <th>Payment_of_Min_Amount</th>\n",
       "      <th>Payment_Behaviour</th>\n",
       "      <th>Credit_Score</th>\n",
       "    </tr>\n",
       "  </thead>\n",
       "  <tbody>\n",
       "    <tr>\n",
       "      <th>count</th>\n",
       "      <td>66429</td>\n",
       "      <td>66429</td>\n",
       "      <td>66429</td>\n",
       "      <td>66429</td>\n",
       "      <td>66429</td>\n",
       "      <td>66429</td>\n",
       "      <td>66429</td>\n",
       "      <td>66429</td>\n",
       "      <td>66429</td>\n",
       "      <td>66429</td>\n",
       "      <td>66429</td>\n",
       "      <td>66429</td>\n",
       "      <td>66429</td>\n",
       "    </tr>\n",
       "    <tr>\n",
       "      <th>unique</th>\n",
       "      <td>66429</td>\n",
       "      <td>11176</td>\n",
       "      <td>8</td>\n",
       "      <td>9255</td>\n",
       "      <td>11169</td>\n",
       "      <td>16</td>\n",
       "      <td>15679</td>\n",
       "      <td>5695</td>\n",
       "      <td>4</td>\n",
       "      <td>404</td>\n",
       "      <td>3</td>\n",
       "      <td>7</td>\n",
       "      <td>3</td>\n",
       "    </tr>\n",
       "    <tr>\n",
       "      <th>top</th>\n",
       "      <td>0x1602</td>\n",
       "      <td>CUS_0x228d</td>\n",
       "      <td>August</td>\n",
       "      <td>-</td>\n",
       "      <td>#F%$D@*&amp;8</td>\n",
       "      <td>No Occupation</td>\n",
       "      <td>40341.16</td>\n",
       "      <td>No Loan</td>\n",
       "      <td>Standard</td>\n",
       "      <td>19 Years and 5 Months</td>\n",
       "      <td>Yes</td>\n",
       "      <td>Low_spent_Small_value_payments</td>\n",
       "      <td>Standard</td>\n",
       "    </tr>\n",
       "    <tr>\n",
       "      <th>freq</th>\n",
       "      <td>1</td>\n",
       "      <td>8</td>\n",
       "      <td>8372</td>\n",
       "      <td>6662</td>\n",
       "      <td>3723</td>\n",
       "      <td>4677</td>\n",
       "      <td>13</td>\n",
       "      <td>7250</td>\n",
       "      <td>26262</td>\n",
       "      <td>6323</td>\n",
       "      <td>36629</td>\n",
       "      <td>17115</td>\n",
       "      <td>36448</td>\n",
       "    </tr>\n",
       "  </tbody>\n",
       "</table>\n",
       "</div>"
      ],
      "text/plain": [
       "            ID Customer_ID   Month   Name        SSN     Occupation  \\\n",
       "count    66429       66429   66429  66429      66429          66429   \n",
       "unique   66429       11176       8   9255      11169             16   \n",
       "top     0x1602  CUS_0x228d  August      -  #F%$D@*&8  No Occupation   \n",
       "freq         1           8    8372   6662       3723           4677   \n",
       "\n",
       "       Annual_Income Type_of_Loan Credit_Mix     Credit_History_Age  \\\n",
       "count          66429        66429      66429                  66429   \n",
       "unique         15679         5695          4                    404   \n",
       "top         40341.16      No Loan   Standard  19 Years and 5 Months   \n",
       "freq              13         7250      26262                   6323   \n",
       "\n",
       "       Payment_of_Min_Amount               Payment_Behaviour Credit_Score  \n",
       "count                  66429                           66429        66429  \n",
       "unique                     3                               7            3  \n",
       "top                      Yes  Low_spent_Small_value_payments     Standard  \n",
       "freq                   36629                           17115        36448  "
      ]
     },
     "execution_count": 343,
     "metadata": {},
     "output_type": "execute_result"
    }
   ],
   "source": [
    "df.describe(include=[object])"
   ]
  },
  {
   "cell_type": "code",
   "execution_count": 345,
   "id": "6635d69f-58c4-4925-aaa8-78cf16061ee9",
   "metadata": {},
   "outputs": [
    {
     "data": {
      "text/plain": [
       "Amount_invested_monthly\n",
       "0.000000      5900\n",
       "80.415295        1\n",
       "44.611359        1\n",
       "119.764204       1\n",
       "145.015755       1\n",
       "              ... \n",
       "37.112169        1\n",
       "436.509837       1\n",
       "273.180766       1\n",
       "269.977595       1\n",
       "167.163865       1\n",
       "Name: count, Length: 60530, dtype: int64"
      ]
     },
     "execution_count": 345,
     "metadata": {},
     "output_type": "execute_result"
    }
   ],
   "source": [
    "df['Amount_invested_monthly'].value_counts()"
   ]
  },
  {
   "cell_type": "code",
   "execution_count": 347,
   "id": "cdeef128-44b1-4034-b64e-7308a8917792",
   "metadata": {},
   "outputs": [
    {
     "data": {
      "text/plain": [
       "Payment_Behaviour\n",
       "Low_spent_Small_value_payments      17115\n",
       "High_spent_Medium_value_payments    11624\n",
       "Low_spent_Medium_value_payments      9204\n",
       "High_spent_Large_value_payments      9027\n",
       "High_spent_Small_value_payments      7538\n",
       "Low_spent_Large_value_payments       6929\n",
       "!@9#%8                               4992\n",
       "Name: count, dtype: int64"
      ]
     },
     "execution_count": 347,
     "metadata": {},
     "output_type": "execute_result"
    }
   ],
   "source": [
    "df['Payment_Behaviour'].value_counts().head(20)"
   ]
  },
  {
   "cell_type": "code",
   "execution_count": 349,
   "id": "0076652c-c13d-4dec-a3ca-bc572b5b16f2",
   "metadata": {},
   "outputs": [],
   "source": [
    "#Замена на \"Unknown\"\n",
    "df['Payment_Behaviour'] = df['Payment_Behaviour'].replace('!@9#%8', 'Unknown')"
   ]
  },
  {
   "cell_type": "code",
   "execution_count": 351,
   "id": "43ab601c-e441-4d4c-91a4-463e2dd9d8ad",
   "metadata": {},
   "outputs": [
    {
     "data": {
      "text/plain": [
       "Payment_Behaviour\n",
       "Low_spent_Small_value_payments      17115\n",
       "High_spent_Medium_value_payments    11624\n",
       "Low_spent_Medium_value_payments      9204\n",
       "High_spent_Large_value_payments      9027\n",
       "High_spent_Small_value_payments      7538\n",
       "Low_spent_Large_value_payments       6929\n",
       "Unknown                              4992\n",
       "Name: count, dtype: int64"
      ]
     },
     "execution_count": 351,
     "metadata": {},
     "output_type": "execute_result"
    }
   ],
   "source": [
    "df['Payment_Behaviour'].value_counts().head(20)"
   ]
  },
  {
   "cell_type": "markdown",
   "id": "44667d5c-a791-4f6d-be9c-c09c4a1af3b4",
   "metadata": {},
   "source": [
    "### Вывод"
   ]
  },
  {
   "cell_type": "markdown",
   "id": "0833b5ec-21a9-4998-b2c4-5db0bcd30347",
   "metadata": {},
   "source": [
    "Избавились от некорректных значений"
   ]
  },
  {
   "cell_type": "code",
   "execution_count": 355,
   "id": "a4cc28e2-91c0-4dca-a0c4-e37a1391f841",
   "metadata": {},
   "outputs": [
    {
     "data": {
      "image/png": "[encoded data removed]",
      "text/plain": [
       "<Figure size 1500x1000 with 16 Axes>"
      ]
     },
     "metadata": {},
     "output_type": "display_data"
    }
   ],
   "source": [
    "df.hist(figsize = (15,10), bins = 50);"
   ]
  },
  {
   "cell_type": "markdown",
   "id": "6f3f57ad-b294-4c41-909c-f1bb03f8eb8b",
   "metadata": {},
   "source": [
    "### Визуализация"
   ]
  },
  {
   "cell_type": "code",
   "execution_count": 357,
   "id": "c4c308ce-1a10-46d0-9735-2edc9f6a9b76",
   "metadata": {},
   "outputs": [
    {
     "data": {
      "image/png": "[encoded data removed]",
      "text/plain": [
       "<Figure size 1000x600 with 1 Axes>"
      ]
     },
     "metadata": {},
     "output_type": "display_data"
    }
   ],
   "source": [
    "# Распределение возраста\n",
    "plt.figure(figsize=(10, 6))\n",
    "sns.histplot(df['Age'], bins=30, kde=True)\n",
    "plt.title('Распределение возраста')\n",
    "plt.xlabel('Возраст')\n",
    "plt.ylabel('Частота')\n",
    "plt.show()"
   ]
  },
  {
   "cell_type": "code",
   "execution_count": 358,
   "id": "eb35b34d-ff75-4b65-9607-e32f60cdb1a6",
   "metadata": {},
   "outputs": [
    {
     "data": {
      "image/png": "[encoded data removed]",
      "text/plain": [
       "<Figure size 1000x600 with 1 Axes>"
      ]
     },
     "metadata": {},
     "output_type": "display_data"
    }
   ],
   "source": [
    "plt.figure(figsize=(10, 6))\n",
    "sns.boxplot(x='Credit_Score', y='Age', data=df)\n",
    "plt.title('Взаимосвязь между возрастом и кредитным рейтингом')\n",
    "plt.xlabel('Кредитный рейтинг')\n",
    "plt.ylabel('Возраст')\n",
    "plt.show()"
   ]
  },
  {
   "cell_type": "markdown",
   "id": "7b76f1af-4eaf-4d89-8148-fcc9e76fad4f",
   "metadata": {},
   "source": [
    "### Выявление выбросов"
   ]
  },
  {
   "cell_type": "code",
   "execution_count": 360,
   "id": "2cb6a637-e530-4875-9620-6c99c31685db",
   "metadata": {},
   "outputs": [
    {
     "data": {
      "text/html": [
       "<div>\n",
       "<style scoped>\n",
       "    .dataframe tbody tr th:only-of-type {\n",
       "        vertical-align: middle;\n",
       "    }\n",
       "\n",
       "    .dataframe tbody tr th {\n",
       "        vertical-align: top;\n",
       "    }\n",
       "\n",
       "    .dataframe thead th {\n",
       "        text-align: right;\n",
       "    }\n",
       "</style>\n",
       "<table border=\"1\" class=\"dataframe\">\n",
       "  <thead>\n",
       "    <tr style=\"text-align: right;\">\n",
       "      <th></th>\n",
       "      <th>Age</th>\n",
       "      <th>Monthly_Inhand_Salary</th>\n",
       "      <th>Num_Bank_Accounts</th>\n",
       "      <th>Num_Credit_Card</th>\n",
       "      <th>Interest_Rate</th>\n",
       "      <th>Num_of_Loan</th>\n",
       "      <th>Delay_from_due_date</th>\n",
       "      <th>Num_of_Delayed_Payment</th>\n",
       "      <th>Changed_Credit_Limit</th>\n",
       "      <th>Num_Credit_Inquiries</th>\n",
       "      <th>Outstanding_Debt</th>\n",
       "      <th>Credit_Utilization_Ratio</th>\n",
       "      <th>Total_EMI_per_month</th>\n",
       "      <th>Amount_invested_monthly</th>\n",
       "      <th>Monthly_Balance</th>\n",
       "    </tr>\n",
       "  </thead>\n",
       "  <tbody>\n",
       "    <tr>\n",
       "      <th>count</th>\n",
       "      <td>66429.000000</td>\n",
       "      <td>66429.000000</td>\n",
       "      <td>66429.000000</td>\n",
       "      <td>66429.000000</td>\n",
       "      <td>66429.000000</td>\n",
       "      <td>66429.000000</td>\n",
       "      <td>66429.000000</td>\n",
       "      <td>66429.000000</td>\n",
       "      <td>66429.000000</td>\n",
       "      <td>66429.000000</td>\n",
       "      <td>66429.000000</td>\n",
       "      <td>66429.000000</td>\n",
       "      <td>66429.000000</td>\n",
       "      <td>66429.000000</td>\n",
       "      <td>66429.000000</td>\n",
       "    </tr>\n",
       "    <tr>\n",
       "      <th>mean</th>\n",
       "      <td>34.109922</td>\n",
       "      <td>3968.850789</td>\n",
       "      <td>18.242590</td>\n",
       "      <td>22.665011</td>\n",
       "      <td>73.317467</td>\n",
       "      <td>3.407352</td>\n",
       "      <td>21.861025</td>\n",
       "      <td>32.230788</td>\n",
       "      <td>10.779183</td>\n",
       "      <td>27.107769</td>\n",
       "      <td>1448.564754</td>\n",
       "      <td>32.269948</td>\n",
       "      <td>1404.500249</td>\n",
       "      <td>175.393639</td>\n",
       "      <td>397.298559</td>\n",
       "    </tr>\n",
       "    <tr>\n",
       "      <th>std</th>\n",
       "      <td>9.979754</td>\n",
       "      <td>2901.228128</td>\n",
       "      <td>121.590107</td>\n",
       "      <td>129.306201</td>\n",
       "      <td>470.299112</td>\n",
       "      <td>2.511823</td>\n",
       "      <td>14.596226</td>\n",
       "      <td>230.722554</td>\n",
       "      <td>6.676461</td>\n",
       "      <td>189.102037</td>\n",
       "      <td>1163.104745</td>\n",
       "      <td>5.110092</td>\n",
       "      <td>8297.200317</td>\n",
       "      <td>194.502129</td>\n",
       "      <td>208.442157</td>\n",
       "    </tr>\n",
       "    <tr>\n",
       "      <th>min</th>\n",
       "      <td>18.000000</td>\n",
       "      <td>303.645417</td>\n",
       "      <td>1.000000</td>\n",
       "      <td>0.000000</td>\n",
       "      <td>1.000000</td>\n",
       "      <td>0.000000</td>\n",
       "      <td>1.000000</td>\n",
       "      <td>1.000000</td>\n",
       "      <td>0.010000</td>\n",
       "      <td>0.000000</td>\n",
       "      <td>0.340000</td>\n",
       "      <td>20.000000</td>\n",
       "      <td>0.000000</td>\n",
       "      <td>0.000000</td>\n",
       "      <td>0.007760</td>\n",
       "    </tr>\n",
       "    <tr>\n",
       "      <th>25%</th>\n",
       "      <td>26.000000</td>\n",
       "      <td>1763.386667</td>\n",
       "      <td>4.000000</td>\n",
       "      <td>4.000000</td>\n",
       "      <td>8.000000</td>\n",
       "      <td>1.000000</td>\n",
       "      <td>11.000000</td>\n",
       "      <td>10.000000</td>\n",
       "      <td>5.750000</td>\n",
       "      <td>3.000000</td>\n",
       "      <td>583.600000</td>\n",
       "      <td>28.048630</td>\n",
       "      <td>30.687932</td>\n",
       "      <td>57.488665</td>\n",
       "      <td>269.759321</td>\n",
       "    </tr>\n",
       "    <tr>\n",
       "      <th>50%</th>\n",
       "      <td>34.000000</td>\n",
       "      <td>3136.363333</td>\n",
       "      <td>6.000000</td>\n",
       "      <td>6.000000</td>\n",
       "      <td>15.000000</td>\n",
       "      <td>3.000000</td>\n",
       "      <td>19.000000</td>\n",
       "      <td>14.000000</td>\n",
       "      <td>9.700000</td>\n",
       "      <td>6.000000</td>\n",
       "      <td>1171.730000</td>\n",
       "      <td>32.302437</td>\n",
       "      <td>68.896136</td>\n",
       "      <td>115.042580</td>\n",
       "      <td>335.979949</td>\n",
       "    </tr>\n",
       "    <tr>\n",
       "      <th>75%</th>\n",
       "      <td>42.000000</td>\n",
       "      <td>5280.946608</td>\n",
       "      <td>8.000000</td>\n",
       "      <td>7.000000</td>\n",
       "      <td>21.000000</td>\n",
       "      <td>5.000000</td>\n",
       "      <td>28.000000</td>\n",
       "      <td>19.000000</td>\n",
       "      <td>15.300000</td>\n",
       "      <td>9.000000</td>\n",
       "      <td>1980.000000</td>\n",
       "      <td>36.486750</td>\n",
       "      <td>160.255399</td>\n",
       "      <td>215.874981</td>\n",
       "      <td>461.877800</td>\n",
       "    </tr>\n",
       "    <tr>\n",
       "      <th>max</th>\n",
       "      <td>95.000000</td>\n",
       "      <td>15204.633333</td>\n",
       "      <td>1798.000000</td>\n",
       "      <td>1499.000000</td>\n",
       "      <td>5797.000000</td>\n",
       "      <td>9.000000</td>\n",
       "      <td>67.000000</td>\n",
       "      <td>4397.000000</td>\n",
       "      <td>36.490000</td>\n",
       "      <td>2597.000000</td>\n",
       "      <td>4998.070000</td>\n",
       "      <td>49.564519</td>\n",
       "      <td>82331.000000</td>\n",
       "      <td>1977.326102</td>\n",
       "      <td>1576.288935</td>\n",
       "    </tr>\n",
       "  </tbody>\n",
       "</table>\n",
       "</div>"
      ],
      "text/plain": [
       "                Age  Monthly_Inhand_Salary  Num_Bank_Accounts  \\\n",
       "count  66429.000000           66429.000000       66429.000000   \n",
       "mean      34.109922            3968.850789          18.242590   \n",
       "std        9.979754            2901.228128         121.590107   \n",
       "min       18.000000             303.645417           1.000000   \n",
       "25%       26.000000            1763.386667           4.000000   \n",
       "50%       34.000000            3136.363333           6.000000   \n",
       "75%       42.000000            5280.946608           8.000000   \n",
       "max       95.000000           15204.633333        1798.000000   \n",
       "\n",
       "       Num_Credit_Card  Interest_Rate   Num_of_Loan  Delay_from_due_date  \\\n",
       "count     66429.000000   66429.000000  66429.000000         66429.000000   \n",
       "mean         22.665011      73.317467      3.407352            21.861025   \n",
       "std         129.306201     470.299112      2.511823            14.596226   \n",
       "min           0.000000       1.000000      0.000000             1.000000   \n",
       "25%           4.000000       8.000000      1.000000            11.000000   \n",
       "50%           6.000000      15.000000      3.000000            19.000000   \n",
       "75%           7.000000      21.000000      5.000000            28.000000   \n",
       "max        1499.000000    5797.000000      9.000000            67.000000   \n",
       "\n",
       "       Num_of_Delayed_Payment  Changed_Credit_Limit  Num_Credit_Inquiries  \\\n",
       "count            66429.000000          66429.000000          66429.000000   \n",
       "mean                32.230788             10.779183             27.107769   \n",
       "std                230.722554              6.676461            189.102037   \n",
       "min                  1.000000              0.010000              0.000000   \n",
       "25%                 10.000000              5.750000              3.000000   \n",
       "50%                 14.000000              9.700000              6.000000   \n",
       "75%                 19.000000             15.300000              9.000000   \n",
       "max               4397.000000             36.490000           2597.000000   \n",
       "\n",
       "       Outstanding_Debt  Credit_Utilization_Ratio  Total_EMI_per_month  \\\n",
       "count      66429.000000              66429.000000         66429.000000   \n",
       "mean        1448.564754                 32.269948          1404.500249   \n",
       "std         1163.104745                  5.110092          8297.200317   \n",
       "min            0.340000                 20.000000             0.000000   \n",
       "25%          583.600000                 28.048630            30.687932   \n",
       "50%         1171.730000                 32.302437            68.896136   \n",
       "75%         1980.000000                 36.486750           160.255399   \n",
       "max         4998.070000                 49.564519         82331.000000   \n",
       "\n",
       "       Amount_invested_monthly  Monthly_Balance  \n",
       "count             66429.000000     66429.000000  \n",
       "mean                175.393639       397.298559  \n",
       "std                 194.502129       208.442157  \n",
       "min                   0.000000         0.007760  \n",
       "25%                  57.488665       269.759321  \n",
       "50%                 115.042580       335.979949  \n",
       "75%                 215.874981       461.877800  \n",
       "max                1977.326102      1576.288935  "
      ]
     },
     "execution_count": 360,
     "metadata": {},
     "output_type": "execute_result"
    }
   ],
   "source": [
    "numeric_columns = ['Age', 'Monthly_Inhand_Salary', 'Num_Bank_Accounts', \n",
    "                   'Num_Credit_Card', 'Interest_Rate', 'Num_of_Loan', \n",
    "                   'Delay_from_due_date', 'Num_of_Delayed_Payment', \n",
    "                   'Changed_Credit_Limit', 'Num_Credit_Inquiries', 'Outstanding_Debt', \n",
    "                   'Credit_Utilization_Ratio', 'Total_EMI_per_month', 'Amount_invested_monthly', \n",
    "                   'Monthly_Balance']\n",
    "\n",
    "df[numeric_columns].describe()"
   ]
  },
  {
   "cell_type": "markdown",
   "id": "6ba3703b-9952-4da0-ab0c-9968a3834f5a",
   "metadata": {},
   "source": [
    "### Преобразование небинарных категориальных признаков в набор фиктивных бинарных"
   ]
  },
  {
   "cell_type": "code",
   "execution_count": 363,
   "id": "884731d5-2e61-47a9-b172-f631c3633f91",
   "metadata": {},
   "outputs": [
    {
     "data": {
      "text/html": [
       "<div>\n",
       "<style scoped>\n",
       "    .dataframe tbody tr th:only-of-type {\n",
       "        vertical-align: middle;\n",
       "    }\n",
       "\n",
       "    .dataframe tbody tr th {\n",
       "        vertical-align: top;\n",
       "    }\n",
       "\n",
       "    .dataframe thead th {\n",
       "        text-align: right;\n",
       "    }\n",
       "</style>\n",
       "<table border=\"1\" class=\"dataframe\">\n",
       "  <thead>\n",
       "    <tr style=\"text-align: right;\">\n",
       "      <th></th>\n",
       "      <th>Good</th>\n",
       "      <th>Poor</th>\n",
       "      <th>Standard</th>\n",
       "    </tr>\n",
       "  </thead>\n",
       "  <tbody>\n",
       "    <tr>\n",
       "      <th>0</th>\n",
       "      <td>1</td>\n",
       "      <td>0</td>\n",
       "      <td>0</td>\n",
       "    </tr>\n",
       "    <tr>\n",
       "      <th>3</th>\n",
       "      <td>1</td>\n",
       "      <td>0</td>\n",
       "      <td>0</td>\n",
       "    </tr>\n",
       "    <tr>\n",
       "      <th>5</th>\n",
       "      <td>1</td>\n",
       "      <td>0</td>\n",
       "      <td>0</td>\n",
       "    </tr>\n",
       "    <tr>\n",
       "      <th>7</th>\n",
       "      <td>0</td>\n",
       "      <td>0</td>\n",
       "      <td>1</td>\n",
       "    </tr>\n",
       "    <tr>\n",
       "      <th>9</th>\n",
       "      <td>1</td>\n",
       "      <td>0</td>\n",
       "      <td>0</td>\n",
       "    </tr>\n",
       "  </tbody>\n",
       "</table>\n",
       "</div>"
      ],
      "text/plain": [
       "   Good  Poor  Standard\n",
       "0     1     0         0\n",
       "3     1     0         0\n",
       "5     1     0         0\n",
       "7     0     0         1\n",
       "9     1     0         0"
      ]
     },
     "execution_count": 363,
     "metadata": {},
     "output_type": "execute_result"
    }
   ],
   "source": [
    "# генерация бинарных колонок (фиктивных переменных) для категориального признака Embarked\n",
    "Credit_Score_cols = pd.get_dummies(df[\"Credit_Score\"], dtype = int)\n",
    "Credit_Score_cols.head()"
   ]
  },
  {
   "cell_type": "markdown",
   "id": "580480d9-e9a2-4126-ba24-514524040e1c",
   "metadata": {},
   "source": [
    "### Формирование дата-сета для обучения моделей"
   ]
  },
  {
   "cell_type": "code",
   "execution_count": 366,
   "id": "27ff425e-a86f-4039-8f36-a4c7f95ad397",
   "metadata": {},
   "outputs": [],
   "source": [
    "X = pd.concat([df[numeric_columns], Credit_Score_cols], axis = 1)"
   ]
  },
  {
   "cell_type": "code",
   "execution_count": 371,
   "id": "5dc0d3aa-1ad1-49f8-9dba-667fed34f730",
   "metadata": {},
   "outputs": [],
   "source": [
    "# выделение целевой переменной (таргета) в отдельный вектор\n",
    "y = df[\"Credit_Score\"]"
   ]
  },
  {
   "cell_type": "code",
   "execution_count": 373,
   "id": "8239e0bd-3a88-4fa4-949b-55690bcb0afd",
   "metadata": {},
   "outputs": [
    {
     "data": {
      "text/plain": [
       "(66429, 15)"
      ]
     },
     "execution_count": 373,
     "metadata": {},
     "output_type": "execute_result"
    }
   ],
   "source": [
    "\n",
    "from sklearn.model_selection import train_test_split\n",
    "# объединение изначальных признаков и фиктивных бинарных признаков - формирование матрицы Объекты-признаки\n",
    "X = pd.concat([df[numeric_columns]], axis=1)\n",
    "X.shape"
   ]
  },
  {
   "cell_type": "code",
   "execution_count": 375,
   "id": "e28cf960-a3a6-4578-9533-3647f925203a",
   "metadata": {},
   "outputs": [
    {
     "ename": "NameError",
     "evalue": "name 'df_encoded' is not defined",
     "output_type": "error",
     "traceback": [
      "\u001b[1;31m---------------------------------------------------------------------------\u001b[0m",
      "\u001b[1;31mNameError\u001b[0m                                 Traceback (most recent call last)",
      "Cell \u001b[1;32mIn[375], line 2\u001b[0m\n\u001b[0;32m      1\u001b[0m credit_score_mapping \u001b[38;5;241m=\u001b[39m {\u001b[38;5;124m'\u001b[39m\u001b[38;5;124mStandard\u001b[39m\u001b[38;5;124m'\u001b[39m: \u001b[38;5;241m1\u001b[39m, \u001b[38;5;124m'\u001b[39m\u001b[38;5;124mPoor\u001b[39m\u001b[38;5;124m'\u001b[39m: \u001b[38;5;241m2\u001b[39m, \u001b[38;5;124m'\u001b[39m\u001b[38;5;124mGood\u001b[39m\u001b[38;5;124m'\u001b[39m: \u001b[38;5;241m3\u001b[39m}\n\u001b[1;32m----> 2\u001b[0m df_encoded[\u001b[38;5;124m'\u001b[39m\u001b[38;5;124mCredit_Score\u001b[39m\u001b[38;5;124m'\u001b[39m] \u001b[38;5;241m=\u001b[39m df_encoded[\u001b[38;5;124m'\u001b[39m\u001b[38;5;124mCredit_Score\u001b[39m\u001b[38;5;124m'\u001b[39m]\u001b[38;5;241m.\u001b[39mreplace(credit_score_mapping)\n",
      "\u001b[1;31mNameError\u001b[0m: name 'df_encoded' is not defined"
     ]
    }
   ],
   "source": [
    "credit_score_mapping = {'Standard': 1, 'Poor': 2, 'Good': 3}\n",
    "df_encoded['Credit_Score'] = df_encoded['Credit_Score'].replace(credit_score_mapping)"
   ]
  },
  {
   "cell_type": "code",
   "execution_count": 377,
   "id": "0944fa85-1460-4f4d-a53b-44971de741d5",
   "metadata": {},
   "outputs": [
    {
     "data": {
      "text/html": [
       "<div>\n",
       "<style scoped>\n",
       "    .dataframe tbody tr th:only-of-type {\n",
       "        vertical-align: middle;\n",
       "    }\n",
       "\n",
       "    .dataframe tbody tr th {\n",
       "        vertical-align: top;\n",
       "    }\n",
       "\n",
       "    .dataframe thead th {\n",
       "        text-align: right;\n",
       "    }\n",
       "</style>\n",
       "<table border=\"1\" class=\"dataframe\">\n",
       "  <thead>\n",
       "    <tr style=\"text-align: right;\">\n",
       "      <th></th>\n",
       "      <th>Age</th>\n",
       "      <th>Monthly_Inhand_Salary</th>\n",
       "      <th>Num_Bank_Accounts</th>\n",
       "      <th>Num_Credit_Card</th>\n",
       "      <th>Interest_Rate</th>\n",
       "      <th>Num_of_Loan</th>\n",
       "      <th>Delay_from_due_date</th>\n",
       "      <th>Num_of_Delayed_Payment</th>\n",
       "      <th>Changed_Credit_Limit</th>\n",
       "      <th>Num_Credit_Inquiries</th>\n",
       "      <th>Outstanding_Debt</th>\n",
       "      <th>Credit_Utilization_Ratio</th>\n",
       "      <th>Total_EMI_per_month</th>\n",
       "      <th>Amount_invested_monthly</th>\n",
       "      <th>Monthly_Balance</th>\n",
       "    </tr>\n",
       "  </thead>\n",
       "  <tbody>\n",
       "    <tr>\n",
       "      <th>0</th>\n",
       "      <td>23.0</td>\n",
       "      <td>1824.843333</td>\n",
       "      <td>3</td>\n",
       "      <td>4</td>\n",
       "      <td>3</td>\n",
       "      <td>4.0</td>\n",
       "      <td>3</td>\n",
       "      <td>7.0</td>\n",
       "      <td>11.27</td>\n",
       "      <td>4.0</td>\n",
       "      <td>809.98</td>\n",
       "      <td>26.822620</td>\n",
       "      <td>49.574949</td>\n",
       "      <td>80.415295</td>\n",
       "      <td>312.494089</td>\n",
       "    </tr>\n",
       "    <tr>\n",
       "      <th>3</th>\n",
       "      <td>23.0</td>\n",
       "      <td>3136.363333</td>\n",
       "      <td>3</td>\n",
       "      <td>4</td>\n",
       "      <td>3</td>\n",
       "      <td>4.0</td>\n",
       "      <td>5</td>\n",
       "      <td>4.0</td>\n",
       "      <td>6.27</td>\n",
       "      <td>4.0</td>\n",
       "      <td>809.98</td>\n",
       "      <td>31.377862</td>\n",
       "      <td>49.574949</td>\n",
       "      <td>199.458074</td>\n",
       "      <td>223.451310</td>\n",
       "    </tr>\n",
       "    <tr>\n",
       "      <th>5</th>\n",
       "      <td>23.0</td>\n",
       "      <td>3136.363333</td>\n",
       "      <td>3</td>\n",
       "      <td>4</td>\n",
       "      <td>3</td>\n",
       "      <td>4.0</td>\n",
       "      <td>8</td>\n",
       "      <td>4.0</td>\n",
       "      <td>9.27</td>\n",
       "      <td>4.0</td>\n",
       "      <td>809.98</td>\n",
       "      <td>27.262259</td>\n",
       "      <td>49.574949</td>\n",
       "      <td>62.430172</td>\n",
       "      <td>340.479212</td>\n",
       "    </tr>\n",
       "    <tr>\n",
       "      <th>7</th>\n",
       "      <td>23.0</td>\n",
       "      <td>1824.843333</td>\n",
       "      <td>3</td>\n",
       "      <td>4</td>\n",
       "      <td>3</td>\n",
       "      <td>4.0</td>\n",
       "      <td>3</td>\n",
       "      <td>6.0</td>\n",
       "      <td>11.27</td>\n",
       "      <td>4.0</td>\n",
       "      <td>809.98</td>\n",
       "      <td>23.933795</td>\n",
       "      <td>49.574949</td>\n",
       "      <td>24.785217</td>\n",
       "      <td>358.124168</td>\n",
       "    </tr>\n",
       "    <tr>\n",
       "      <th>9</th>\n",
       "      <td>28.0</td>\n",
       "      <td>3037.986667</td>\n",
       "      <td>2</td>\n",
       "      <td>4</td>\n",
       "      <td>6</td>\n",
       "      <td>1.0</td>\n",
       "      <td>7</td>\n",
       "      <td>1.0</td>\n",
       "      <td>7.42</td>\n",
       "      <td>2.0</td>\n",
       "      <td>605.03</td>\n",
       "      <td>38.550848</td>\n",
       "      <td>18.816215</td>\n",
       "      <td>40.391238</td>\n",
       "      <td>484.591214</td>\n",
       "    </tr>\n",
       "    <tr>\n",
       "      <th>...</th>\n",
       "      <td>...</td>\n",
       "      <td>...</td>\n",
       "      <td>...</td>\n",
       "      <td>...</td>\n",
       "      <td>...</td>\n",
       "      <td>...</td>\n",
       "      <td>...</td>\n",
       "      <td>...</td>\n",
       "      <td>...</td>\n",
       "      <td>...</td>\n",
       "      <td>...</td>\n",
       "      <td>...</td>\n",
       "      <td>...</td>\n",
       "      <td>...</td>\n",
       "      <td>...</td>\n",
       "    </tr>\n",
       "    <tr>\n",
       "      <th>99994</th>\n",
       "      <td>25.0</td>\n",
       "      <td>3359.415833</td>\n",
       "      <td>4</td>\n",
       "      <td>6</td>\n",
       "      <td>7</td>\n",
       "      <td>2.0</td>\n",
       "      <td>20</td>\n",
       "      <td>6.0</td>\n",
       "      <td>9.50</td>\n",
       "      <td>3.0</td>\n",
       "      <td>502.38</td>\n",
       "      <td>39.323569</td>\n",
       "      <td>35.104023</td>\n",
       "      <td>140.581403</td>\n",
       "      <td>410.256158</td>\n",
       "    </tr>\n",
       "    <tr>\n",
       "      <th>99995</th>\n",
       "      <td>25.0</td>\n",
       "      <td>3359.415833</td>\n",
       "      <td>4</td>\n",
       "      <td>6</td>\n",
       "      <td>7</td>\n",
       "      <td>2.0</td>\n",
       "      <td>23</td>\n",
       "      <td>7.0</td>\n",
       "      <td>11.50</td>\n",
       "      <td>3.0</td>\n",
       "      <td>502.38</td>\n",
       "      <td>34.663572</td>\n",
       "      <td>35.104023</td>\n",
       "      <td>60.971333</td>\n",
       "      <td>479.866228</td>\n",
       "    </tr>\n",
       "    <tr>\n",
       "      <th>99996</th>\n",
       "      <td>25.0</td>\n",
       "      <td>3359.415833</td>\n",
       "      <td>4</td>\n",
       "      <td>6</td>\n",
       "      <td>7</td>\n",
       "      <td>2.0</td>\n",
       "      <td>18</td>\n",
       "      <td>7.0</td>\n",
       "      <td>11.50</td>\n",
       "      <td>3.0</td>\n",
       "      <td>502.38</td>\n",
       "      <td>40.565631</td>\n",
       "      <td>35.104023</td>\n",
       "      <td>54.185950</td>\n",
       "      <td>496.651610</td>\n",
       "    </tr>\n",
       "    <tr>\n",
       "      <th>99997</th>\n",
       "      <td>25.0</td>\n",
       "      <td>3359.415833</td>\n",
       "      <td>4</td>\n",
       "      <td>6</td>\n",
       "      <td>5729</td>\n",
       "      <td>2.0</td>\n",
       "      <td>27</td>\n",
       "      <td>6.0</td>\n",
       "      <td>11.50</td>\n",
       "      <td>3.0</td>\n",
       "      <td>502.38</td>\n",
       "      <td>41.255522</td>\n",
       "      <td>35.104023</td>\n",
       "      <td>24.028477</td>\n",
       "      <td>516.809083</td>\n",
       "    </tr>\n",
       "    <tr>\n",
       "      <th>99999</th>\n",
       "      <td>25.0</td>\n",
       "      <td>3359.415833</td>\n",
       "      <td>4</td>\n",
       "      <td>6</td>\n",
       "      <td>7</td>\n",
       "      <td>2.0</td>\n",
       "      <td>18</td>\n",
       "      <td>6.0</td>\n",
       "      <td>11.50</td>\n",
       "      <td>3.0</td>\n",
       "      <td>502.38</td>\n",
       "      <td>34.192463</td>\n",
       "      <td>35.104023</td>\n",
       "      <td>167.163865</td>\n",
       "      <td>393.673696</td>\n",
       "    </tr>\n",
       "  </tbody>\n",
       "</table>\n",
       "<p>66429 rows × 15 columns</p>\n",
       "</div>"
      ],
      "text/plain": [
       "        Age  Monthly_Inhand_Salary  Num_Bank_Accounts  Num_Credit_Card  \\\n",
       "0      23.0            1824.843333                  3                4   \n",
       "3      23.0            3136.363333                  3                4   \n",
       "5      23.0            3136.363333                  3                4   \n",
       "7      23.0            1824.843333                  3                4   \n",
       "9      28.0            3037.986667                  2                4   \n",
       "...     ...                    ...                ...              ...   \n",
       "99994  25.0            3359.415833                  4                6   \n",
       "99995  25.0            3359.415833                  4                6   \n",
       "99996  25.0            3359.415833                  4                6   \n",
       "99997  25.0            3359.415833                  4                6   \n",
       "99999  25.0            3359.415833                  4                6   \n",
       "\n",
       "       Interest_Rate  Num_of_Loan  Delay_from_due_date  \\\n",
       "0                  3          4.0                    3   \n",
       "3                  3          4.0                    5   \n",
       "5                  3          4.0                    8   \n",
       "7                  3          4.0                    3   \n",
       "9                  6          1.0                    7   \n",
       "...              ...          ...                  ...   \n",
       "99994              7          2.0                   20   \n",
       "99995              7          2.0                   23   \n",
       "99996              7          2.0                   18   \n",
       "99997           5729          2.0                   27   \n",
       "99999              7          2.0                   18   \n",
       "\n",
       "       Num_of_Delayed_Payment  Changed_Credit_Limit  Num_Credit_Inquiries  \\\n",
       "0                         7.0                 11.27                   4.0   \n",
       "3                         4.0                  6.27                   4.0   \n",
       "5                         4.0                  9.27                   4.0   \n",
       "7                         6.0                 11.27                   4.0   \n",
       "9                         1.0                  7.42                   2.0   \n",
       "...                       ...                   ...                   ...   \n",
       "99994                     6.0                  9.50                   3.0   \n",
       "99995                     7.0                 11.50                   3.0   \n",
       "99996                     7.0                 11.50                   3.0   \n",
       "99997                     6.0                 11.50                   3.0   \n",
       "99999                     6.0                 11.50                   3.0   \n",
       "\n",
       "       Outstanding_Debt  Credit_Utilization_Ratio  Total_EMI_per_month  \\\n",
       "0                809.98                 26.822620            49.574949   \n",
       "3                809.98                 31.377862            49.574949   \n",
       "5                809.98                 27.262259            49.574949   \n",
       "7                809.98                 23.933795            49.574949   \n",
       "9                605.03                 38.550848            18.816215   \n",
       "...                 ...                       ...                  ...   \n",
       "99994            502.38                 39.323569            35.104023   \n",
       "99995            502.38                 34.663572            35.104023   \n",
       "99996            502.38                 40.565631            35.104023   \n",
       "99997            502.38                 41.255522            35.104023   \n",
       "99999            502.38                 34.192463            35.104023   \n",
       "\n",
       "       Amount_invested_monthly  Monthly_Balance  \n",
       "0                    80.415295       312.494089  \n",
       "3                   199.458074       223.451310  \n",
       "5                    62.430172       340.479212  \n",
       "7                    24.785217       358.124168  \n",
       "9                    40.391238       484.591214  \n",
       "...                        ...              ...  \n",
       "99994               140.581403       410.256158  \n",
       "99995                60.971333       479.866228  \n",
       "99996                54.185950       496.651610  \n",
       "99997                24.028477       516.809083  \n",
       "99999               167.163865       393.673696  \n",
       "\n",
       "[66429 rows x 15 columns]"
      ]
     },
     "execution_count": 377,
     "metadata": {},
     "output_type": "execute_result"
    }
   ],
   "source": [
    "X"
   ]
  },
  {
   "cell_type": "markdown",
   "id": "2bfbe0ca-9dd4-4eef-bef1-fd88c8e3eaaa",
   "metadata": {},
   "source": [
    "### KNeighborsClassifier (Классификация ближайших соседей)"
   ]
  },
  {
   "cell_type": "code",
   "execution_count": null,
   "id": "6081f67f-d916-44a9-982b-4692a3216d61",
   "metadata": {},
   "outputs": [],
   "source": [
    "# Разделяем выборку на обучающую и тестовую \n",
    "from sklearn.model_selection import train_test_split\n",
    "X_train, X_test, y_train, y_test = train_test_split(X, y, test_size=0.33, random_state=42)"
   ]
  },
  {
   "cell_type": "code",
   "execution_count": null,
   "id": "7ce8bb1f-3163-4a7b-8c34-b975cab23ef2",
   "metadata": {},
   "outputs": [],
   "source": [
    "print(X_train.shape, X_test.shape, y_train.shape, y_test.shape)"
   ]
  },
  {
   "cell_type": "code",
   "execution_count": null,
   "id": "7783fa18-365e-40c3-af0c-838bc77123e7",
   "metadata": {},
   "outputs": [],
   "source": [
    "from sklearn.neighbors import KNeighborsClassifier\n",
    "from sklearn.svm import SVC\n",
    "from sklearn.tree import DecisionTreeClassifier\n",
    "from sklearn.ensemble import RandomForestClassifier\n",
    "from sklearn.naive_bayes import GaussianNB\n",
    "from sklearn.linear_model import LogisticRegression"
   ]
  },
  {
   "cell_type": "code",
   "execution_count": null,
   "id": "f090369e-6e6d-4959-a917-15e337013a98",
   "metadata": {},
   "outputs": [],
   "source": [
    "from sklearn.metrics import accuracy_score\n",
    "from sklearn.metrics import f1_score\n",
    "from sklearn.metrics import confusion_matrix\n",
    "from sklearn.metrics import classification_report"
   ]
  },
  {
   "cell_type": "code",
   "execution_count": null,
   "id": "f9067c04-39cf-4100-8919-62ae041fa427",
   "metadata": {},
   "outputs": [],
   "source": [
    "knn = KNeighborsClassifier()\n",
    "knn.fit(X_train, y_train)"
   ]
  },
  {
   "cell_type": "code",
   "execution_count": 224,
   "id": "9831e0de-62ed-40f0-96ae-6d22729b8310",
   "metadata": {},
   "outputs": [
    {
     "ename": "NameError",
     "evalue": "name 'knn' is not defined",
     "output_type": "error",
     "traceback": [
      "\u001b[1;31m---------------------------------------------------------------------------\u001b[0m",
      "\u001b[1;31mNameError\u001b[0m                                 Traceback (most recent call last)",
      "Cell \u001b[1;32mIn[224], line 1\u001b[0m\n\u001b[1;32m----> 1\u001b[0m knn_predict \u001b[38;5;241m=\u001b[39m knn\u001b[38;5;241m.\u001b[39mpredict(X_test)\n",
      "\u001b[1;31mNameError\u001b[0m: name 'knn' is not defined"
     ]
    }
   ],
   "source": [
    "knn_predict = knn.predict(X_test)"
   ]
  },
  {
   "cell_type": "code",
   "execution_count": 226,
   "id": "25d2a72d-afb1-49e2-b190-fbb3953e7682",
   "metadata": {},
   "outputs": [
    {
     "ename": "NameError",
     "evalue": "name 'accuracy_score' is not defined",
     "output_type": "error",
     "traceback": [
      "\u001b[1;31m---------------------------------------------------------------------------\u001b[0m",
      "\u001b[1;31mNameError\u001b[0m                                 Traceback (most recent call last)",
      "Cell \u001b[1;32mIn[226], line 1\u001b[0m\n\u001b[1;32m----> 1\u001b[0m knn_accuracy \u001b[38;5;241m=\u001b[39m accuracy_score(knn_predict, y_test)\n\u001b[0;32m      2\u001b[0m knn_accuracy\n",
      "\u001b[1;31mNameError\u001b[0m: name 'accuracy_score' is not defined"
     ]
    }
   ],
   "source": [
    "knn_accuracy = accuracy_score(knn_predict, y_test)\n",
    "knn_accuracy"
   ]
  },
  {
   "cell_type": "code",
   "execution_count": 228,
   "id": "e459901c-eddb-4b28-86d1-097aac65926c",
   "metadata": {},
   "outputs": [
    {
     "ename": "NameError",
     "evalue": "name 'confusion_matrix' is not defined",
     "output_type": "error",
     "traceback": [
      "\u001b[1;31m---------------------------------------------------------------------------\u001b[0m",
      "\u001b[1;31mNameError\u001b[0m                                 Traceback (most recent call last)",
      "Cell \u001b[1;32mIn[228], line 1\u001b[0m\n\u001b[1;32m----> 1\u001b[0m confusion_matrix(knn_predict, y_test)\n",
      "\u001b[1;31mNameError\u001b[0m: name 'confusion_matrix' is not defined"
     ]
    }
   ],
   "source": [
    "confusion_matrix(knn_predict, y_test)"
   ]
  },
  {
   "cell_type": "code",
   "execution_count": 230,
   "id": "b3770227-3bd4-44e2-b2ef-b0df407e85ca",
   "metadata": {},
   "outputs": [
    {
     "ename": "NameError",
     "evalue": "name 'knn' is not defined",
     "output_type": "error",
     "traceback": [
      "\u001b[1;31m---------------------------------------------------------------------------\u001b[0m",
      "\u001b[1;31mNameError\u001b[0m                                 Traceback (most recent call last)",
      "Cell \u001b[1;32mIn[230], line 2\u001b[0m\n\u001b[0;32m      1\u001b[0m \u001b[38;5;66;03m#составление прогноза\u001b[39;00m\n\u001b[1;32m----> 2\u001b[0m knn\u001b[38;5;241m.\u001b[39mpredict(X_test)\n",
      "\u001b[1;31mNameError\u001b[0m: name 'knn' is not defined"
     ]
    }
   ],
   "source": [
    "#составление прогноза\n",
    "knn.predict(X_test)"
   ]
  },
  {
   "cell_type": "code",
   "execution_count": 232,
   "id": "081bdd2c-1b6d-463e-b2ec-6d10378b0a72",
   "metadata": {},
   "outputs": [
    {
     "ename": "NameError",
     "evalue": "name 'classification_report' is not defined",
     "output_type": "error",
     "traceback": [
      "\u001b[1;31m---------------------------------------------------------------------------\u001b[0m",
      "\u001b[1;31mNameError\u001b[0m                                 Traceback (most recent call last)",
      "Cell \u001b[1;32mIn[232], line 1\u001b[0m\n\u001b[1;32m----> 1\u001b[0m \u001b[38;5;28mprint\u001b[39m(classification_report(knn_predict, y_test))\n",
      "\u001b[1;31mNameError\u001b[0m: name 'classification_report' is not defined"
     ]
    }
   ],
   "source": [
    "print(classification_report(knn_predict, y_test))"
   ]
  },
  {
   "cell_type": "code",
   "execution_count": 234,
   "id": "d4857383-5288-439c-8482-98f865c0a3f8",
   "metadata": {},
   "outputs": [
    {
     "ename": "NameError",
     "evalue": "name 'knn' is not defined",
     "output_type": "error",
     "traceback": [
      "\u001b[1;31m---------------------------------------------------------------------------\u001b[0m",
      "\u001b[1;31mNameError\u001b[0m                                 Traceback (most recent call last)",
      "Cell \u001b[1;32mIn[234], line 1\u001b[0m\n\u001b[1;32m----> 1\u001b[0m knn_pred_test \u001b[38;5;241m=\u001b[39m knn\u001b[38;5;241m.\u001b[39mpredict(X_test)\n\u001b[0;32m      2\u001b[0m display(knn_pred_test[:\u001b[38;5;241m20\u001b[39m], np\u001b[38;5;241m.\u001b[39marray(y_test[:\u001b[38;5;241m20\u001b[39m]))\n",
      "\u001b[1;31mNameError\u001b[0m: name 'knn' is not defined"
     ]
    }
   ],
   "source": [
    "knn_pred_test = knn.predict(X_test)\n",
    "display(knn_pred_test[:20], np.array(y_test[:20]))"
   ]
  },
  {
   "cell_type": "code",
   "execution_count": 236,
   "id": "3c6472cb-aaee-4948-a804-25bfaa805741",
   "metadata": {},
   "outputs": [
    {
     "ename": "NameError",
     "evalue": "name 'knn' is not defined",
     "output_type": "error",
     "traceback": [
      "\u001b[1;31m---------------------------------------------------------------------------\u001b[0m",
      "\u001b[1;31mNameError\u001b[0m                                 Traceback (most recent call last)",
      "Cell \u001b[1;32mIn[236], line 2\u001b[0m\n\u001b[0;32m      1\u001b[0m \u001b[38;5;66;03m#измерение производительности\u001b[39;00m\n\u001b[1;32m----> 2\u001b[0m y_train_predict \u001b[38;5;241m=\u001b[39m knn\u001b[38;5;241m.\u001b[39mpredict(X_train)\n\u001b[0;32m      3\u001b[0m y_test_predict \u001b[38;5;241m=\u001b[39m knn\u001b[38;5;241m.\u001b[39mpredict(X_test)\n\u001b[0;32m      5\u001b[0m \u001b[38;5;28mprint\u001b[39m(\u001b[38;5;124m'\u001b[39m\u001b[38;5;124mtrain accuracy: \u001b[39m\u001b[38;5;124m'\u001b[39m, accuracy_score(y_train, y_train_predict, normalize\u001b[38;5;241m=\u001b[39m\u001b[38;5;28;01mTrue\u001b[39;00m))\n",
      "\u001b[1;31mNameError\u001b[0m: name 'knn' is not defined"
     ]
    }
   ],
   "source": [
    "#измерение производительности\n",
    "y_train_predict = knn.predict(X_train)\n",
    "y_test_predict = knn.predict(X_test)\n",
    "\n",
    "print('train accuracy: ', accuracy_score(y_train, y_train_predict, normalize=True))\n",
    "print('test accuracy: ', accuracy_score(y_test, y_test_predict, normalize=True))"
   ]
  },
  {
   "cell_type": "code",
   "execution_count": 238,
   "id": "38a78a2e-0d23-4950-8b0b-c07046e3a8ae",
   "metadata": {},
   "outputs": [
    {
     "ename": "NameError",
     "evalue": "name 'accuracy_score' is not defined",
     "output_type": "error",
     "traceback": [
      "\u001b[1;31m---------------------------------------------------------------------------\u001b[0m",
      "\u001b[1;31mNameError\u001b[0m                                 Traceback (most recent call last)",
      "Cell \u001b[1;32mIn[238], line 1\u001b[0m\n\u001b[1;32m----> 1\u001b[0m knn_accuracy \u001b[38;5;241m=\u001b[39m accuracy_score(y_test, y_test_predict, normalize\u001b[38;5;241m=\u001b[39m\u001b[38;5;28;01mTrue\u001b[39;00m)\n",
      "\u001b[1;31mNameError\u001b[0m: name 'accuracy_score' is not defined"
     ]
    }
   ],
   "source": [
    "\n",
    "knn_accuracy = accuracy_score(y_test, y_test_predict, normalize=True)"
   ]
  },
  {
   "cell_type": "markdown",
   "id": "60dee839-347b-436b-a9e4-0c5476f5d203",
   "metadata": {},
   "source": [
    "### Gaussian Naive Bayes (НАИВНЫЙ БАЙЕСОВСКИЙ КЛАССИФИКАТОР)"
   ]
  },
  {
   "cell_type": "code",
   "execution_count": null,
   "id": "7067f9f8-710d-43fd-b22e-f738ab6bc508",
   "metadata": {},
   "outputs": [],
   "source": [
    "from sklearn.naive_bayes import GaussianNB"
   ]
  },
  {
   "cell_type": "code",
   "execution_count": null,
   "id": "05a4a457-95b2-4a1a-a416-869c1af5d42d",
   "metadata": {},
   "outputs": [],
   "source": [
    "%%time\n",
    "\n",
    "gnb = GaussianNB()\n",
    "gnb.fit(X, y)"
   ]
  },
  {
   "cell_type": "code",
   "execution_count": null,
   "id": "3a292125-af59-42b5-8a7c-df2eeaee07b0",
   "metadata": {},
   "outputs": [],
   "source": [
    "\n",
    "gnb_pred_test = gnb.predict(X_test)\n",
    "display(gnb_pred_test[:20], np.array(y_test[:20]))"
   ]
  },
  {
   "cell_type": "code",
   "execution_count": null,
   "id": "65286d12-49fc-4eb0-874d-f27ed2298d2a",
   "metadata": {},
   "outputs": [],
   "source": [
    "\n",
    "# измерение производительности\n",
    "from sklearn.metrics import accuracy_score\n",
    "accuracy_score(y_test, gnb_pred_test)"
   ]
  },
  {
   "cell_type": "code",
   "execution_count": null,
   "id": "aa0b5245-39e8-4b54-9eb7-07583aa82a85",
   "metadata": {},
   "outputs": [],
   "source": [
    "\n",
    "gnb_accuracy = accuracy_score(y_test, gnb_pred_test)"
   ]
  },
  {
   "cell_type": "markdown",
   "id": "ecefbaa1-4df0-40d5-9c0f-c5162ece70e3",
   "metadata": {},
   "source": [
    "### Random Forest Classifier (Классификатор дерева решений)"
   ]
  },
  {
   "cell_type": "code",
   "execution_count": null,
   "id": "d9d7d3da-b8ab-4b54-bf3f-c380d5e371fa",
   "metadata": {},
   "outputs": [],
   "source": [
    "from sklearn.ensemble import RandomForestClassifier"
   ]
  },
  {
   "cell_type": "code",
   "execution_count": null,
   "id": "4467dc6e-0da4-40cc-9568-a2060a5b7823",
   "metadata": {},
   "outputs": [],
   "source": [
    "\n",
    "%%time\n",
    "rfc  = RandomForestClassifier(criterion = 'gini',\n",
    "                                    n_estimators = 100,\n",
    "                                    max_depth = 9,\n",
    "                                    random_state = 42,\n",
    "                                    n_jobs = -1)\n",
    "\n",
    "rfc.fit(X_train, y_train)\n",
    "y_pred = rfc.predict(X_test)"
   ]
  },
  {
   "cell_type": "code",
   "execution_count": null,
   "id": "f2e348a3-818c-4db8-8c82-8e0a3c8cd74c",
   "metadata": {},
   "outputs": [],
   "source": [
    "rfc_pred_test = rfc.predict(X_test)\n",
    "display(rfc_pred_test[:20], np.array(y_test[:20]))"
   ]
  },
  {
   "cell_type": "code",
   "execution_count": null,
   "id": "f508ed10-c6f1-4b58-8313-3405645ce72e",
   "metadata": {},
   "outputs": [],
   "source": [
    "# измерение производительности\n",
    "from sklearn.metrics import accuracy_score"
   ]
  },
  {
   "cell_type": "code",
   "execution_count": null,
   "id": "88000e01-03df-49fb-a0fd-cc950fefc2c4",
   "metadata": {},
   "outputs": [],
   "source": [
    "\n",
    "rfc_accuracy = accuracy_score(y_test, rfc_pred_test)"
   ]
  },
  {
   "cell_type": "markdown",
   "id": "93dd5d07-bde8-4180-8cef-6a63538c64a2",
   "metadata": {},
   "source": [
    "### Logistic Regression (Логистическая регрессия)"
   ]
  },
  {
   "cell_type": "code",
   "execution_count": null,
   "id": "77adcad9-d583-475e-b039-e4a3e5edbe1d",
   "metadata": {},
   "outputs": [],
   "source": [
    "from sklearn.linear_model import LogisticRegression"
   ]
  },
  {
   "cell_type": "code",
   "execution_count": null,
   "id": "d3c71aea-4e55-4971-8aa9-602b8c740a1a",
   "metadata": {},
   "outputs": [],
   "source": [
    "from sklearn.preprocessing import StandardScaler\n",
    "sc = StandardScaler()\n",
    "X_train = sc.fit_transform(X_train)\n",
    "X_test = sc.transform(X_test)"
   ]
  },
  {
   "cell_type": "code",
   "execution_count": null,
   "id": "81ead97f-32a5-403b-b495-4c8dccda9979",
   "metadata": {},
   "outputs": [],
   "source": [
    "%%time\n",
    "lr = LogisticRegression(random_state = 42)\n",
    "lr.fit(X_train, y_train)"
   ]
  },
  {
   "cell_type": "code",
   "execution_count": null,
   "id": "3a181b22-9e9a-4b05-88fa-9faaa59c974e",
   "metadata": {},
   "outputs": [],
   "source": [
    "\n",
    "lr_pred_test = lr.predict(X_test)\n",
    "display(lr_pred_test[:20], np.array(y_test[:20]))"
   ]
  },
  {
   "cell_type": "code",
   "execution_count": null,
   "id": "0e70e195-e25d-4709-99c9-9e0b85b5dc43",
   "metadata": {},
   "outputs": [],
   "source": [
    "from sklearn.metrics import accuracy_score\n",
    "accuracy_score(y_test, lr_pred_test)"
   ]
  },
  {
   "cell_type": "code",
   "execution_count": null,
   "id": "9a7d21bc-a0c7-41df-892b-b2f71f58acb2",
   "metadata": {},
   "outputs": [],
   "source": [
    "lr_accuracy = accuracy_score(y_test, lr_pred_test)"
   ]
  },
  {
   "cell_type": "markdown",
   "id": "1b6414bd-83ea-4879-a778-6a8d1b985e88",
   "metadata": {},
   "source": [
    "### Метрики классификации"
   ]
  },
  {
   "cell_type": "code",
   "execution_count": null,
   "id": "03b20f2b-344a-4730-8965-5133ac7dd228",
   "metadata": {},
   "outputs": [],
   "source": [
    "\n",
    "from sklearn.metrics import accuracy_score, mean_absolute_error, mean_squared_error, precision_score, recall_score, f1_score, confusion_matrix, r2_score\n",
    "from sklearn.metrics import classification_report"
   ]
  },
  {
   "cell_type": "code",
   "execution_count": null,
   "id": "26c9d042-5ad1-40fd-88e8-ecfa7d98f472",
   "metadata": {},
   "outputs": [],
   "source": [
    "classifiers =[\"KNeighborsClassifier\", \"Gaussian Naive Bayes\", \"Random Forest Classifier\", \"Logistic Regression\"]\n",
    "\n",
    "log_cols = [\"Classifier\", \"Accuracy\"]\n",
    "log = pd.DataFrame(columns=log_cols)\n",
    "\n",
    "log[\"Classifier\"] = classifiers\n",
    "log[\"Accuracy\"] = [knn_accuracy, gnb_accuracy, rfc_accuracy, lr_accuracy]"
   ]
  },
  {
   "cell_type": "code",
   "execution_count": null,
   "id": "6d5c03cb-ce14-4fc1-a1ef-e25d5e8e8c98",
   "metadata": {},
   "outputs": [],
   "source": [
    "log"
   ]
  },
  {
   "cell_type": "code",
   "execution_count": null,
   "id": "5b5b2d58-5057-434f-b77f-a6cb4747127b",
   "metadata": {},
   "outputs": [],
   "source": [
    "plt.xlabel('Accuracy')\n",
    "plt.title('Classifier Accuracy')\n",
    "\n",
    "sns.set_color_codes(\"muted\")\n",
    "sns.barplot(x='Accuracy', y='Classifier', data=log.sort_values(by='Accuracy'), color=\"b\");\n",
    "plt.show()"
   ]
  },
  {
   "cell_type": "code",
   "execution_count": null,
   "id": "9368905a-a3ca-4729-bd6c-226b4aaa10a5",
   "metadata": {},
   "outputs": [],
   "source": [
    "# измерение производительности\n",
    "y_train_predict = knn.predict(X_train)\n",
    "y_test_predict = knn.predict(X_test)"
   ]
  },
  {
   "cell_type": "code",
   "execution_count": null,
   "id": "d1d93a31-6a87-4787-b382-577168b92d0e",
   "metadata": {},
   "outputs": [],
   "source": [
    "from sklearn.metrics import confusion_matrix, ConfusionMatrixDisplay\n",
    "cm = confusion_matrix(y_test, y_test_predict)\n",
    "cm"
   ]
  },
  {
   "cell_type": "markdown",
   "id": "e36268dc-57d3-4b7e-9ce8-0451a01c74f2",
   "metadata": {},
   "source": [
    "### Визуализация"
   ]
  },
  {
   "cell_type": "code",
   "execution_count": null,
   "id": "75a7724b-bbb6-4a9d-943e-9206a3659eb8",
   "metadata": {},
   "outputs": [],
   "source": [
    "sns.heatmap(cm, annot=True, fmt='d', cmap='Reds')\n",
    "plt.title('Confusion Matrix')\n",
    "plt.xlabel('Predicted Label')\n",
    "plt.ylabel('True Label')\n",
    "plt.show()"
   ]
  },
  {
   "cell_type": "code",
   "execution_count": null,
   "id": "7a580120-aa51-4803-bbb2-c126e7ed795d",
   "metadata": {},
   "outputs": [],
   "source": [
    "cm = confusion_matrix(y_test, y_test_predict, labels=knn.classes_)\n",
    "disp = ConfusionMatrixDisplay(confusion_matrix=cm,\n",
    "                              display_labels=knn.classes_)\n",
    "disp.plot()\n",
    "plt.show()"
   ]
  },
  {
   "cell_type": "code",
   "execution_count": null,
   "id": "3b1401a0-15c0-4611-854f-a4e004b2afc5",
   "metadata": {},
   "outputs": [],
   "source": [
    "print('train accuracy: ', accuracy_score(y_train, y_train_predict, normalize=True))\n",
    "print('test accuracy: ', accuracy_score(y_test, y_test_predict, normalize=True))"
   ]
  },
  {
   "cell_type": "code",
   "execution_count": null,
   "id": "32df3857-166f-4771-a6df-3103cf72a404",
   "metadata": {},
   "outputs": [],
   "source": []
  },
  {
   "cell_type": "code",
   "execution_count": null,
   "id": "13915760-393c-4e4d-9126-3b959cfb7640",
   "metadata": {},
   "outputs": [],
   "source": []
  }
 ],
 "metadata": {
  "kernelspec": {
   "display_name": "Python 3 (ipykernel)",
   "language": "python",
   "name": "python3"
  },
  "language_info": {
   "codemirror_mode": {
    "name": "ipython",
    "version": 3
   },
   "file_extension": ".py",
   "mimetype": "text/x-python",
   "name": "python",
   "nbconvert_exporter": "python",
   "pygments_lexer": "ipython3",
   "version": "3.12.4"
  }
 },
 "nbformat": 4,
 "nbformat_minor": 5
}
